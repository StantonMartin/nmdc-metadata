{
 "cells": [
  {
   "cell_type": "code",
   "execution_count": 1,
   "metadata": {},
   "outputs": [],
   "source": [
    "import os, sys\n",
    "sys.path.append(os.path.abspath('../src/bin/lib/')) # add path to lib"
   ]
  },
  {
   "cell_type": "code",
   "execution_count": 2,
   "metadata": {},
   "outputs": [],
   "source": [
    "import yaml\n",
    "import json\n",
    "from yaml import CLoader as Loader, CDumper as Dumper\n",
    "import data_operations as dop\n",
    "from dotted_dict import DottedDict\n",
    "from collections import namedtuple\n",
    "import nmdc\n",
    "import data_operations as dop\n",
    "from pandasql import sqldf\n",
    "from pprint import pprint\n",
    "import pandas as pds\n",
    "import jsonasobj\n",
    "\n",
    "from pandasql import sqldf\n",
    "def pysqldf(q):\n",
    "    return sqldf(q, globals())"
   ]
  },
  {
   "cell_type": "markdown",
   "metadata": {},
   "source": [
    "## Load yaml spec for data sources"
   ]
  },
  {
   "cell_type": "code",
   "execution_count": 3,
   "metadata": {},
   "outputs": [],
   "source": [
    "spec_file = \"../src/bin/lib/nmdc_data_source.yaml\"\n",
    "with open(spec_file, 'r') as input_file:\n",
    "    spec = DottedDict(yaml.load(input_file, Loader=Loader))"
   ]
  },
  {
   "cell_type": "markdown",
   "metadata": {},
   "source": [
    "## Create merged dataframe of all data sources"
   ]
  },
  {
   "cell_type": "code",
   "execution_count": 4,
   "metadata": {},
   "outputs": [],
   "source": [
    "## build merged dataframe from data sources specified in the spec file\n",
    "# mdf = dop.make_dataframe_from_spec_file (spec_file)\n",
    "# mdf.to_csv('../src/data/nmdc_merged_data.tsv', sep='\\t', index=False) # save mergd data"
   ]
  },
  {
   "cell_type": "markdown",
   "metadata": {},
   "source": [
    "## Load data from merged tsv (this can only be done after merged data tsv has been created)"
   ]
  },
  {
   "cell_type": "code",
   "execution_count": 5,
   "metadata": {},
   "outputs": [],
   "source": [
    "# read data from saved file\n",
    "mdf = pds.read_csv('../src/data/nmdc_merged_data.tsv.zip', sep='\\t', dtype=str)\n",
    "# mdf = pds.read_csv('../src/data/nmdc_merged_data.tsv.zip', sep='\\t', dtype=str, nrows=100)"
   ]
  },
  {
   "cell_type": "code",
   "execution_count": 6,
   "metadata": {},
   "outputs": [
    {
     "data": {
      "text/plain": [
       "array(['study_table', 'contact_table', 'proposals_table', 'project_table',\n",
       "       'project_biosample_table', 'biosample_table', 'ficus_faa_table',\n",
       "       'ficus_fna_table', 'ficus_fastq_table', 'ficus_jgi_emsl',\n",
       "       'ficus_emsl'], dtype=object)"
      ]
     },
     "execution_count": 6,
     "metadata": {},
     "output_type": "execute_result"
    }
   ],
   "source": [
    "mdf.nmdc_data_source.unique() ## list of the data sources in merged"
   ]
  },
  {
   "cell_type": "markdown",
   "metadata": {},
   "source": [
    "## Extract tables from merged dataset"
   ]
  },
  {
   "cell_type": "code",
   "execution_count": 7,
   "metadata": {},
   "outputs": [],
   "source": [
    "study_table = dop.extract_table(mdf, 'study_table')\n",
    "contact_table = dop.extract_table(mdf, 'contact_table')\n",
    "proposals_table = dop.extract_table(mdf, 'proposals_table')\n",
    "project_table = dop.extract_table(mdf, 'project_table')\n",
    "jgi_emsl_table = dop.extract_table(mdf, 'ficus_jgi_emsl')\n",
    "emsl_table = dop.extract_table(mdf, 'ficus_emsl')\n",
    "faa_table = dop.extract_table(mdf, 'ficus_faa_table')\n",
    "fna_table = dop.extract_table(mdf, 'ficus_fna_table')\n",
    "fastq_table = dop.extract_table(mdf, 'ficus_fasq_table')\n",
    "project_biosample_table = dop.extract_table(mdf, 'project_biosample_table')\n",
    "biosample_table = dop.extract_table(mdf, 'biosample_table')\n",
    "# biosample_table.columns"
   ]
  },
  {
   "cell_type": "markdown",
   "metadata": {},
   "source": [
    "## Add prefixes to id fields"
   ]
  },
  {
   "cell_type": "code",
   "execution_count": 8,
   "metadata": {},
   "outputs": [],
   "source": [
    "# study_table.gold_id = \"gold:\" + study_table.gold_id\n",
    "# proposals_table.gold_study = \"gold:\" + proposals_table.gold_study\n",
    "# project_table.gold_id = \"gold:\" + project_table.gold_id\n",
    "# biosample_table.gold_id = \"gold\" + biosample_table.gold_id\n",
    "# jgi_emsl_table.gold_study_id = \"gold:\" + jgi_emsl_table.gold_study_id\n",
    "# emsl_table.dataset_id = \"emsl:\" + emsl_table.dataset_id"
   ]
  },
  {
   "cell_type": "markdown",
   "metadata": {},
   "source": [
    "## Test building study json"
   ]
  },
  {
   "cell_type": "code",
   "execution_count": 9,
   "metadata": {},
   "outputs": [],
   "source": [
    "study = dop.make_study_dataframe(study_table, contact_table, proposals_table)\n",
    "study_dictdf = study.to_dict(orient=\"records\") # transorm dataframe to dictionary\n",
    "# study.gold_id"
   ]
  },
  {
   "cell_type": "code",
   "execution_count": 10,
   "metadata": {},
   "outputs": [],
   "source": [
    "## specify attributes\n",
    "attributes = \\\n",
    "    ['gold_study_name', 'principal_investigator_name', 'add_date', 'mod_date', 'doi',\n",
    "      'ecosystem', 'ecosystem_category', 'ecosystem_type', 'ecosystem_subtype', 'specific_ecosystem']\n",
    "\n",
    "constructor = \\\n",
    "    {\n",
    "        'id': 'gold_id',\n",
    "        'name': 'study_name',\n",
    "        'description': 'description'\n",
    "    }\n",
    "\n",
    "study_json_list = dop.make_json_string_list\\\n",
    "    (study_dictdf, nmdc.Study, constructor_map=constructor, attribute_fields=attributes)"
   ]
  },
  {
   "cell_type": "code",
   "execution_count": 11,
   "metadata": {},
   "outputs": [],
   "source": [
    "# print(json.dumps(json.loads(study_json_list[0]), indent=4)) ## peek at data\n",
    "# print(nmdc.Study.class_class_curie)\n",
    "# len(study)"
   ]
  },
  {
   "cell_type": "markdown",
   "metadata": {},
   "source": [
    "## Save study output"
   ]
  },
  {
   "cell_type": "code",
   "execution_count": 12,
   "metadata": {},
   "outputs": [],
   "source": [
    "# dop.save_json_string_list(\"output/test-pipeline/gold_study.json\", study_json_list) # save json string list to file"
   ]
  },
  {
   "cell_type": "markdown",
   "metadata": {},
   "source": [
    "## Test building EMSL omics processing projects"
   ]
  },
  {
   "cell_type": "code",
   "execution_count": 13,
   "metadata": {},
   "outputs": [],
   "source": [
    "emsl = dop.make_emsl_dataframe(emsl_table, jgi_emsl_table, study_table)\n",
    "emsl_dictdf = emsl.to_dict(orient=\"records\") # transorm dataframe to dictionary"
   ]
  },
  {
   "cell_type": "code",
   "execution_count": 14,
   "metadata": {},
   "outputs": [],
   "source": [
    "# emsl.gold_study_id"
   ]
  },
  {
   "cell_type": "code",
   "execution_count": 15,
   "metadata": {},
   "outputs": [],
   "source": [
    "# len(emsl)\n",
    "# emsl.head()\n",
    "# emsl.columns\n",
    "# len(emsl_table)"
   ]
  },
  {
   "cell_type": "code",
   "execution_count": 16,
   "metadata": {},
   "outputs": [],
   "source": [
    "attributes = \\\n",
    "    [\n",
    "      #'file_size_bytes',\n",
    "      {'part_of': ({'id': 'gold_study_id'}, nmdc.Study)},\n",
    "      {'has_output': ({'id': 'data_object_id'}, nmdc.DataObject)}\n",
    "    ]\n",
    "\n",
    "constructor = \\\n",
    "    {\n",
    "        'id': 'dataset_id',\n",
    "        'name': 'dataset_name',\n",
    "        'description': 'dataset_type_description'\n",
    "    }\n",
    "\n",
    "emsl_project_json_list = dop.make_json_string_list\\\n",
    "    (emsl_dictdf, nmdc.OmicsProcessing, constructor_map=constructor, attribute_fields=attributes)"
   ]
  },
  {
   "cell_type": "code",
   "execution_count": 17,
   "metadata": {},
   "outputs": [
    {
     "name": "stdout",
     "output_type": "stream",
     "text": [
      "{\n",
      "    \"id\": \"emsl:359123\",\n",
      "    \"name\": \"GCMS_Blank_01_29Jan14\",\n",
      "    \"description\": \"Full scan GC-MS (but not GC QExactive, which is EI-HMS)\",\n",
      "    \"part_of\": [\n",
      "        {\n",
      "            \"id\": \"gold:Gs0110132\",\n",
      "            \"type\": \"nmdc:Study\"\n",
      "        }\n",
      "    ],\n",
      "    \"type\": \"nmdc:OmicsProcessing\",\n",
      "    \"has_ouput\": [\n",
      "        {\n",
      "            \"id\": \"emsl:output_359123\",\n",
      "            \"type\": \"nmdc:DataObject\"\n",
      "        }\n",
      "    ]\n",
      "}\n"
     ]
    }
   ],
   "source": [
    "print(json.dumps(json.loads(emsl_project_json_list[0]), indent=4)) ## peek at data"
   ]
  },
  {
   "cell_type": "markdown",
   "metadata": {},
   "source": [
    "## Save EMSL omics processing projects"
   ]
  },
  {
   "cell_type": "code",
   "execution_count": 18,
   "metadata": {},
   "outputs": [],
   "source": [
    "# dop.save_json_string_list(\"output/test-pipeline/emsl_omics_processing.json\", emsl_project_json_list) # save json string list to file"
   ]
  },
  {
   "cell_type": "markdown",
   "metadata": {},
   "source": [
    "## Test build EMSL data objects"
   ]
  },
  {
   "cell_type": "code",
   "execution_count": 19,
   "metadata": {},
   "outputs": [],
   "source": [
    "attributes = \\\n",
    "    [\n",
    "      'file_size_bytes'\n",
    "    ]\n",
    "\n",
    "constructor = \\\n",
    "    {\n",
    "        'id': 'data_object_id',\n",
    "        'name': 'data_object_name',\n",
    "        'description': 'dataset_type_description'\n",
    "    }\n",
    "\n",
    "emsl_data_object_json_list = dop.make_json_string_list\\\n",
    "    (emsl_dictdf, nmdc.DataObject, constructor_map=constructor, attribute_fields=attributes)"
   ]
  },
  {
   "cell_type": "code",
   "execution_count": 20,
   "metadata": {},
   "outputs": [
    {
     "name": "stdout",
     "output_type": "stream",
     "text": [
      "{\n",
      "    \"id\": \"emsl:output_359123\",\n",
      "    \"name\": \"output: GCMS_Blank_01_29Jan14\",\n",
      "    \"description\": \"Full scan GC-MS (but not GC QExactive, which is EI-HMS)\",\n",
      "    \"type\": \"nmdc:DataObject\",\n",
      "    \"file_size_bytes\": {\n",
      "        \"has_raw_value\": \"1547264\"\n",
      "    }\n",
      "}\n"
     ]
    }
   ],
   "source": [
    "print(json.dumps(json.loads(emsl_data_object_json_list[0]), indent=4)) ## peek at data"
   ]
  },
  {
   "cell_type": "markdown",
   "metadata": {},
   "source": [
    "## Save EMSL data objects"
   ]
  },
  {
   "cell_type": "code",
   "execution_count": 21,
   "metadata": {},
   "outputs": [],
   "source": [
    "# dop.save_json_string_list(\"output/test-pipeline/emsl_data_objects.json\", emsl_data_object_json_list) # save json string list to file"
   ]
  },
  {
   "cell_type": "markdown",
   "metadata": {},
   "source": [
    "## Test building data obects (faa, fna, fastq)"
   ]
  },
  {
   "cell_type": "code",
   "execution_count": 22,
   "metadata": {},
   "outputs": [],
   "source": [
    "# fasq_table.head() # peek at data"
   ]
  },
  {
   "cell_type": "code",
   "execution_count": 23,
   "metadata": {},
   "outputs": [],
   "source": [
    "data_objects = dop.make_data_objects_dataframe(faa_table, fna_table, fastq_table, project_table)\n",
    "data_objects_dictdf = data_objects.to_dict(orient=\"records\") # transorm dataframe to dictionary"
   ]
  },
  {
   "cell_type": "code",
   "execution_count": 24,
   "metadata": {},
   "outputs": [
    {
     "data": {
      "text/plain": [
       "2046"
      ]
     },
     "execution_count": 24,
     "metadata": {},
     "output_type": "execute_result"
    }
   ],
   "source": [
    "len(data_objects)"
   ]
  },
  {
   "cell_type": "code",
   "execution_count": 25,
   "metadata": {},
   "outputs": [],
   "source": [
    "attributes = \\\n",
    "    [\n",
    "      'file_size_bytes'\n",
    "    ]\n",
    "\n",
    "constructor = \\\n",
    "    {\n",
    "        'id': 'file_id',\n",
    "        'name': 'file_name',\n",
    "        'description': 'file_type_description'\n",
    "    }\n",
    "\n",
    "data_objects_json_list = dop.make_json_string_list\\\n",
    "    (data_objects_dictdf, nmdc.DataObject, constructor_map=constructor, attribute_fields=attributes)"
   ]
  },
  {
   "cell_type": "code",
   "execution_count": 26,
   "metadata": {},
   "outputs": [
    {
     "name": "stdout",
     "output_type": "stream",
     "text": [
      "{\n",
      "    \"id\": \"emsl:53d880b90d87856ba82affcd\",\n",
      "    \"name\": \"43182.assembled.faa\",\n",
      "    \"description\": \"FASTA amino acid sequence\",\n",
      "    \"type\": \"nmdc:DataObject\",\n",
      "    \"file_size_bytes\": {\n",
      "        \"has_raw_value\": \"1337578\"\n",
      "    }\n",
      "}\n"
     ]
    }
   ],
   "source": [
    "print(json.dumps(json.loads(data_objects_json_list[0]), indent=4)) ## peek at data"
   ]
  },
  {
   "cell_type": "markdown",
   "metadata": {},
   "source": [
    "## Save faa, fna, fastq data objects"
   ]
  },
  {
   "cell_type": "code",
   "execution_count": 27,
   "metadata": {},
   "outputs": [],
   "source": [
    "# dop.save_json_string_list(\"output/test-pipeline/faa_fna_fastq_data_objects.json\", data_objects_json_list) # save json string list to file"
   ]
  },
  {
   "cell_type": "markdown",
   "metadata": {},
   "source": [
    "## Test building GOLD project json"
   ]
  },
  {
   "cell_type": "code",
   "execution_count": 28,
   "metadata": {},
   "outputs": [],
   "source": [
    "# data_objects.head()"
   ]
  },
  {
   "cell_type": "code",
   "execution_count": 29,
   "metadata": {},
   "outputs": [],
   "source": [
    "project = dop.make_project_dataframe(project_table, study_table, contact_table, data_objects)\n",
    "# project[pds.isnull(project.output_file_ids)]\n",
    "# project = project[project.nmdc_record_id == \"115128\"] # test if output_file_ids is null\n",
    "# project.output_file_ids.unique()\n",
    "# project.output_file_ids"
   ]
  },
  {
   "cell_type": "code",
   "execution_count": 30,
   "metadata": {},
   "outputs": [],
   "source": [
    "project_dictdf = project.to_dict(orient=\"records\") # transorm dataframe to dictionary\n",
    "# project.columns"
   ]
  },
  {
   "cell_type": "code",
   "execution_count": 31,
   "metadata": {},
   "outputs": [],
   "source": [
    "## specify characteristics\n",
    "attributes = \\\n",
    "    [\n",
    "      {'part_of': ({'id': 'study_gold_id'}, nmdc.Study)},\n",
    "      {'has_output': ({'id': 'output_file_ids'}, nmdc.DataObject)},\n",
    "      'add_date', \n",
    "      'mod_date', \n",
    "      'completion_date', \n",
    "      'ncbi_project_name', \n",
    "      'omics_type', \n",
    "      'principal_investigator_name',\n",
    "      'processing_institution'\n",
    "    ]\n",
    "\n",
    "\n",
    "constructor = \\\n",
    "    {\n",
    "        'id': 'gold_id',\n",
    "        'name': 'project_name',\n",
    "        'description': 'description'\n",
    "    }\n",
    "\n",
    "project_json_list = dop.make_json_string_list\\\n",
    "    (project_dictdf, nmdc.OmicsProcessing, constructor_map=constructor, attribute_fields=attributes)"
   ]
  },
  {
   "cell_type": "code",
   "execution_count": 32,
   "metadata": {},
   "outputs": [
    {
     "name": "stdout",
     "output_type": "stream",
     "text": [
      "{\n",
      "    \"id\": \"gold:Gp0108335\",\n",
      "    \"name\": \"Thawing permafrost microbial communities from the Arctic, studying carbon transformations - Permafrost 712P3D\",\n",
      "    \"description\": NaN,\n",
      "    \"part_of\": [\n",
      "        {\n",
      "            \"id\": \"gold:Gs0112340\",\n",
      "            \"type\": \"nmdc:Study\"\n",
      "        }\n",
      "    ],\n",
      "    \"type\": \"nmdc:OmicsProcessing\",\n",
      "    \"add_date\": {\n",
      "        \"has_raw_value\": \"30-OCT-14 12.00.00.000000000 AM\"\n",
      "    },\n",
      "    \"mod_date\": {\n",
      "        \"has_raw_value\": \"22-MAY-20 06.13.12.927000000 PM\"\n",
      "    },\n",
      "    \"ncbi_project_name\": {\n",
      "        \"has_raw_value\": \"Thawing permafrost microbial communities from the Arctic, studying carbon transformations - Permafrost 712P3D\"\n",
      "    },\n",
      "    \"omics_type\": {\n",
      "        \"has_raw_value\": \"Metagenome\"\n",
      "    },\n",
      "    \"principal_investigator_name\": {\n",
      "        \"has_raw_value\": \"Virginia Rich\"\n",
      "    },\n",
      "    \"has_ouput\": [\n",
      "        {\n",
      "            \"id\": \"emsl:5af44fd364d0b33747747ddb\",\n",
      "            \"type\": \"nmdc:DataObject\"\n",
      "        },\n",
      "        {\n",
      "            \"id\": \"emsl:5af44fd264d0b33747747dd9\",\n",
      "            \"type\": \"nmdc:DataObject\"\n",
      "        }\n",
      "    ]\n",
      "}\n"
     ]
    }
   ],
   "source": [
    "print(json.dumps(json.loads(project_json_list[0]), indent=4)) ## peek at data"
   ]
  },
  {
   "cell_type": "markdown",
   "metadata": {},
   "source": [
    "## Save output"
   ]
  },
  {
   "cell_type": "code",
   "execution_count": 33,
   "metadata": {},
   "outputs": [],
   "source": [
    "# dop.save_json_string_list(\"output/test-pipeline/gold_omics_processing.json\", project_json_list) # save json string list to file"
   ]
  },
  {
   "cell_type": "markdown",
   "metadata": {},
   "source": [
    "## Test building biosample json"
   ]
  },
  {
   "cell_type": "code",
   "execution_count": 34,
   "metadata": {},
   "outputs": [],
   "source": [
    "biosample = dop.make_biosample_dataframe(biosample_table, project_biosample_table, project_table)"
   ]
  },
  {
   "cell_type": "code",
   "execution_count": 35,
   "metadata": {},
   "outputs": [
    {
     "data": {
      "text/plain": [
       "{'nmdc_record_id': '108335',\n",
       " 'add_date': '30-OCT-14 12.00.00.000000000 AM',\n",
       " 'altitude': nan,\n",
       " 'biogas_retention_time': nan,\n",
       " 'biogas_temperature': nan,\n",
       " 'biosample_id': '108335',\n",
       " 'biosample_name': 'Thawing permafrost microbial communities from the Arctic, studying carbon transformations - Permafrost 712P3D',\n",
       " 'chlorophyll_concentration': nan,\n",
       " 'community': 'microbial communities',\n",
       " 'depth': '0.0',\n",
       " 'description': nan,\n",
       " 'ecosystem': 'Environmental',\n",
       " 'ecosystem_category': 'Terrestrial',\n",
       " 'ecosystem_path_id': '4234',\n",
       " 'ecosystem_subtype': 'Wetlands',\n",
       " 'ecosystem_type': 'Soil',\n",
       " 'env_broad_scale': 'ENVO_00000446',\n",
       " 'env_local_scale': 'ENVO_00000489',\n",
       " 'env_medium': 'ENVO_00000134',\n",
       " 'geographic_location': 'Sweden: Kiruna',\n",
       " 'gold_id': 'Gb0108335',\n",
       " 'growth_temperature': nan,\n",
       " 'habitat': 'Thawing permafrost',\n",
       " 'host_name': nan,\n",
       " 'identifier': 'studying carbon transformations',\n",
       " 'latitude': '68.3534',\n",
       " 'location': 'from the Arctic',\n",
       " 'longitude': '19.0472',\n",
       " 'mod_date': '15-MAY-20 10.04.19.473000000 AM',\n",
       " 'ncbi_taxonomy_name': 'permafrost metagenome',\n",
       " 'nitrate_concentration': nan,\n",
       " 'oxygen_concentration': nan,\n",
       " 'ph': nan,\n",
       " 'pressure': nan,\n",
       " 'proport_woa_temperature': nan,\n",
       " 'salinity': nan,\n",
       " 'salinity_concentration': nan,\n",
       " 'sample_collection_day': '20.0',\n",
       " 'sample_collection_hour': nan,\n",
       " 'sample_collection_minute': nan,\n",
       " 'sample_collection_month': '7.0',\n",
       " 'sample_collection_site': 'Palsa',\n",
       " 'sample_collection_year': '2012.0',\n",
       " 'specific_ecosystem': 'Permafrost',\n",
       " 'subsurface_depth': nan,\n",
       " 'water_samp_store_temp': nan,\n",
       " 'project_id': '108335',\n",
       " 'collection_date': '2012-07-20',\n",
       " 'lat_lon': '68.3534 19.0472',\n",
       " 'project_gold_ids': 'gold:Gp0108335'}"
      ]
     },
     "execution_count": 35,
     "metadata": {},
     "output_type": "execute_result"
    }
   ],
   "source": [
    "biosample_dictdf = biosample.to_dict(orient=\"records\") # transorm dataframe to dictionary\n",
    "biosample_dictdf[0] ## peek at dict data"
   ]
  },
  {
   "cell_type": "code",
   "execution_count": null,
   "metadata": {},
   "outputs": [],
   "source": []
  },
  {
   "cell_type": "code",
   "execution_count": 36,
   "metadata": {},
   "outputs": [],
   "source": [
    "## specify attributes\n",
    "attributes = \\\n",
    "    [\n",
    "     'lat_lon',\n",
    "     'add_date',\n",
    "     'mod_date',\n",
    "     'collection_date',\n",
    "     'ecosystem',\n",
    "     'ecosystem_dcategory',\n",
    "     'ecosystem_type',\n",
    "     'ecosystem_subtype',\n",
    "     'specific_ecosystem',\n",
    "     'habitat',\n",
    "     'location',\n",
    "     'community',\n",
    "     'ncbi_taxonomy_name',\n",
    "     'geographic_location',\n",
    "     'latitude',\n",
    "     'longitude',\n",
    "     'sample_collection_site',\n",
    "     'identifier',\n",
    "     'host_name',\n",
    "     'depth',\n",
    "     'subsurface_depth',\n",
    "     'altitude',\n",
    "     'proport_woa_temperature',\n",
    "     'biogas_temperature',\n",
    "     'growth_temperature',\n",
    "     'water_samp_store_temp',\n",
    "     'biogas_retention_time',\n",
    "     'salinity',\n",
    "     'pressure',\n",
    "     'ph',\n",
    "     'chlorophyll_concentration',\n",
    "     'nitrate_concentration',\n",
    "     'oxygen_concentration',\n",
    "     'salinity_concentration',\n",
    "     {'part_of': ({'id': 'project_gold_ids'}, nmdc.OmicsProcessing)}\n",
    "    ]\n",
    "\n",
    "# removed in version 5: 'temperature_range', 'soil_annual_season_temp'\n",
    "\n",
    "## create dict of constructor args\n",
    "constructor = \\\n",
    "    {\n",
    "        'id': 'gold_id',\n",
    "        'name': 'biosample_name',\n",
    "        'description': 'description',\n",
    "        'env_broad_scale': ({'has_raw_value':'env_broad_scale'}, nmdc.ControlledTermValue),\n",
    "        'env_local_scale': ({'has_raw_value':'env_local_scale'}, nmdc.ControlledTermValue),\n",
    "        'env_medium': ({'has_raw_value': 'env_medium'}, nmdc.ControlledTermValue),\n",
    "        'lat_lon': ({'latitude': 'latitude', 'longitude': 'longitude', 'has_raw_value': 'lat_lon'}, nmdc.GeolocationValue),\n",
    "    }"
   ]
  },
  {
   "cell_type": "code",
   "execution_count": 37,
   "metadata": {},
   "outputs": [
    {
     "data": {
      "text/plain": [
       "964"
      ]
     },
     "execution_count": 37,
     "metadata": {},
     "output_type": "execute_result"
    }
   ],
   "source": [
    "len(biosample)\n",
    "# biosample.columns\n",
    "# biosample.lat_lon\n",
    "# biosample.collection_date.unique()"
   ]
  },
  {
   "cell_type": "code",
   "execution_count": 39,
   "metadata": {},
   "outputs": [],
   "source": [
    "## create list of json string objects\n",
    "biosample_json_list = dop.make_json_string_list\\\n",
    "    (biosample_dictdf, nmdc.Biosample, constructor_map=constructor, attribute_fields=attributes)"
   ]
  },
  {
   "cell_type": "code",
   "execution_count": 40,
   "metadata": {},
   "outputs": [
    {
     "name": "stdout",
     "output_type": "stream",
     "text": [
      "{\n",
      "    \"id\": \"Gb0108335\",\n",
      "    \"name\": \"Thawing permafrost microbial communities from the Arctic, studying carbon transformations - Permafrost 712P3D\",\n",
      "    \"description\": NaN,\n",
      "    \"lat_lon\": {\n",
      "        \"has_raw_value\": \"68.3534 19.0472\",\n",
      "        \"latitude\": \"68.3534\",\n",
      "        \"longitude\": \"19.0472\",\n",
      "        \"type\": \"nmdc:GeolocationValue\"\n",
      "    },\n",
      "    \"env_broad_scale\": {\n",
      "        \"has_raw_value\": \"ENVO_00000446\",\n",
      "        \"type\": \"nmdc:ControlledTermValue\"\n",
      "    },\n",
      "    \"env_local_scale\": {\n",
      "        \"has_raw_value\": \"ENVO_00000489\",\n",
      "        \"type\": \"nmdc:ControlledTermValue\"\n",
      "    },\n",
      "    \"env_medium\": {\n",
      "        \"has_raw_value\": \"ENVO_00000134\",\n",
      "        \"type\": \"nmdc:ControlledTermValue\"\n",
      "    },\n",
      "    \"collection_date\": {\n",
      "        \"has_raw_value\": \"2012-07-20\"\n",
      "    },\n",
      "    \"ecosystem\": {\n",
      "        \"has_raw_value\": \"Environmental\"\n",
      "    },\n",
      "    \"ecosystem_type\": {\n",
      "        \"has_raw_value\": \"Soil\"\n",
      "    },\n",
      "    \"ecosystem_subtype\": {\n",
      "        \"has_raw_value\": \"Wetlands\"\n",
      "    },\n",
      "    \"specific_ecosystem\": {\n",
      "        \"has_raw_value\": \"Permafrost\"\n",
      "    },\n",
      "    \"depth\": {\n",
      "        \"has_raw_value\": \"0.0\"\n",
      "    },\n",
      "    \"type\": \"nmdc:Biosample\",\n",
      "    \"add_date\": {\n",
      "        \"has_raw_value\": \"30-OCT-14 12.00.00.000000000 AM\"\n",
      "    },\n",
      "    \"community\": {\n",
      "        \"has_raw_value\": \"microbial communities\"\n",
      "    },\n",
      "    \"geographic_location\": {\n",
      "        \"has_raw_value\": \"Sweden: Kiruna\"\n",
      "    },\n",
      "    \"habitat\": {\n",
      "        \"has_raw_value\": \"Thawing permafrost\"\n",
      "    },\n",
      "    \"identifier\": {\n",
      "        \"has_raw_value\": \"studying carbon transformations\"\n",
      "    },\n",
      "    \"latitude\": {\n",
      "        \"has_raw_value\": \"68.3534\"\n",
      "    },\n",
      "    \"location\": {\n",
      "        \"has_raw_value\": \"from the Arctic\"\n",
      "    },\n",
      "    \"longitude\": {\n",
      "        \"has_raw_value\": \"19.0472\"\n",
      "    },\n",
      "    \"mod_date\": {\n",
      "        \"has_raw_value\": \"15-MAY-20 10.04.19.473000000 AM\"\n",
      "    },\n",
      "    \"ncbi_taxonomy_name\": {\n",
      "        \"has_raw_value\": \"permafrost metagenome\"\n",
      "    },\n",
      "    \"sample_collection_site\": {\n",
      "        \"has_raw_value\": \"Palsa\"\n",
      "    },\n",
      "    \"part_of\": [\n",
      "        {\n",
      "            \"id\": \"gold:Gp0108335\",\n",
      "            \"type\": \"nmdc:OmicsProcessing\"\n",
      "        }\n",
      "    ]\n",
      "}\n"
     ]
    }
   ],
   "source": [
    "print(json.dumps(json.loads(biosample_json_list[0]), indent=4)) ## peek at data"
   ]
  },
  {
   "cell_type": "markdown",
   "metadata": {},
   "source": [
    "## Save output"
   ]
  },
  {
   "cell_type": "code",
   "execution_count": 44,
   "metadata": {},
   "outputs": [
    {
     "data": {
      "text/plain": [
       "['add_date',\n",
       " 'mod_date',\n",
       " 'collection_date',\n",
       " 'ecosystem',\n",
       " 'ecosystem_dcategory',\n",
       " 'ecosystem_type',\n",
       " 'ecosystem_subtype',\n",
       " 'specific_ecosystem',\n",
       " 'habitat',\n",
       " 'location',\n",
       " 'community',\n",
       " 'ncbi_taxonomy_name',\n",
       " 'geo_loc_name',\n",
       " 'latitude',\n",
       " 'longitude',\n",
       " 'sample_collection_site',\n",
       " 'identifier',\n",
       " 'host_name',\n",
       " 'depth',\n",
       " 'subsurface_depth',\n",
       " 'alt',\n",
       " 'proport_woa_temperature',\n",
       " 'biogas_temperature',\n",
       " 'growth_temperature',\n",
       " 'water_samp_store_temp',\n",
       " 'biogas_retention_time',\n",
       " 'salinity',\n",
       " 'pressure',\n",
       " 'ph',\n",
       " 'chlorophyll',\n",
       " 'nitrate',\n",
       " 'diss_oxygen',\n",
       " 'salinity']"
      ]
     },
     "execution_count": 44,
     "metadata": {},
     "output_type": "execute_result"
    }
   ],
   "source": [
    "mapping_df = dop.make_dataframe(\"../src/data/GOLD-to-mixs-map.tsv\")\n",
    "# mapping_df.head() # peek at data\n",
    "temp_list = dop.make_gold_to_mixs_list(attributes, mapping_df, 'biosample')\n",
    "temp_list"
   ]
  },
  {
   "cell_type": "code",
   "execution_count": 43,
   "metadata": {},
   "outputs": [],
   "source": [
    "# dop.save_json_string_list(\"output/test-pipeline//biosample.json\", biosample_json_list) # save json string list to file"
   ]
  },
  {
   "cell_type": "code",
   "execution_count": null,
   "metadata": {},
   "outputs": [],
   "source": []
  },
  {
   "cell_type": "code",
   "execution_count": null,
   "metadata": {},
   "outputs": [],
   "source": []
  },
  {
   "cell_type": "code",
   "execution_count": null,
   "metadata": {},
   "outputs": [],
   "source": []
  },
  {
   "cell_type": "code",
   "execution_count": null,
   "metadata": {},
   "outputs": [],
   "source": []
  }
 ],
 "metadata": {
  "kernelspec": {
   "display_name": "Python 3",
   "language": "python",
   "name": "python3"
  },
  "language_info": {
   "codemirror_mode": {
    "name": "ipython",
    "version": 3
   },
   "file_extension": ".py",
   "mimetype": "text/x-python",
   "name": "python",
   "nbconvert_exporter": "python",
   "pygments_lexer": "ipython3",
   "version": "3.7.4"
  }
 },
 "nbformat": 4,
 "nbformat_minor": 4
}
