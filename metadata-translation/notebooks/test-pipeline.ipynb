{
 "cells": [
  {
   "cell_type": "code",
   "execution_count": 1,
   "metadata": {},
   "outputs": [],
   "source": [
    "import os, sys\n",
    "sys.path.append(os.path.abspath('../src/bin/lib/')) # add path to lib"
   ]
  },
  {
   "cell_type": "code",
   "execution_count": 2,
   "metadata": {},
   "outputs": [],
   "source": [
    "import yaml\n",
    "import json\n",
    "from yaml import CLoader as Loader, CDumper as Dumper\n",
    "import data_operations as dop\n",
    "from dotted_dict import DottedDict\n",
    "from collections import namedtuple\n",
    "import nmdc\n",
    "import data_operations as dop\n",
    "from pandasql import sqldf\n",
    "from pprint import pprint\n",
    "import pandas as pds\n",
    "import jsonasobj\n",
    "def pysqldf(q):\n",
    "    return sqldf(q, globals())"
   ]
  },
  {
   "cell_type": "code",
   "execution_count": 3,
   "metadata": {},
   "outputs": [],
   "source": [
    "spec_file = \"../src/bin/lib/nmdc_data_source.yaml\"\n",
    "with open(spec_file, 'r') as input_file:\n",
    "    spec = DottedDict(yaml.load(input_file, Loader=Loader))"
   ]
  },
  {
   "cell_type": "code",
   "execution_count": 4,
   "metadata": {},
   "outputs": [],
   "source": [
    "## build merged dataframe from data sources specified in the spec file\n",
    "# mdf = dop.make_dataframe_from_spec_file (spec_file, nrows=20) #  for testing grab 20 rows\n",
    "# mdf = dop.make_dataframe_from_spec_file (spec_file, nrows=5) #  for testing grab 5 rows\n",
    "# mdf = dop.make_dataframe_from_spec_file (spec_file)\n",
    "\n",
    "# read data from saved file\n",
    "mdf = pds.read_csv('../src/data/nmdc_merged_data.tsv.zip', sep='\\t', dtype=str)\n",
    "# mdf = pds.read_csv('../src/data/nmdc_merged_data.tsv.zip', sep='\\t', dtype=str, nrows=100)"
   ]
  },
  {
   "cell_type": "code",
   "execution_count": 5,
   "metadata": {},
   "outputs": [],
   "source": [
    "# mdf.to_csv('../src/data/nmdc_merged_data.tsv', sep='\\t', index=False) # save mergd data"
   ]
  },
  {
   "cell_type": "markdown",
   "metadata": {},
   "source": [
    "## Test building study json"
   ]
  },
  {
   "cell_type": "code",
   "execution_count": 6,
   "metadata": {},
   "outputs": [],
   "source": [
    "study_table = dop.extract_table(mdf, 'study_table')\n",
    "contact_table = dop.extract_table(mdf, 'contact_table')\n",
    "proposals_table = dop.extract_table(mdf, 'proposals_table')\n",
    "project_table = dop.extract_table(mdf, 'project_table')\n",
    "project_biosample_table = dop.extract_table(mdf, 'project_biosample_table')\n",
    "biosample_table = dop.extract_table(mdf, 'biosample_table')\n",
    "# biosample_table.columns"
   ]
  },
  {
   "cell_type": "code",
   "execution_count": 7,
   "metadata": {},
   "outputs": [],
   "source": [
    "study = dop.make_study_dataframe(study_table, contact_table, proposals_table)\n",
    "study_dictdf = study.to_dict(orient=\"records\") # transorm dataframe to dictionary"
   ]
  },
  {
   "cell_type": "code",
   "execution_count": 8,
   "metadata": {},
   "outputs": [],
   "source": [
    "## specify attributes\n",
    "attributes = \\\n",
    "    ['gold_study_name', 'principal_investigator_name', 'add_date', 'mod_date', 'doi',\n",
    "      'ecosystem', 'ecosystem_category', 'ecosystem_type', 'ecosystem_subtype', 'specific_ecosystem', 'ecosystem_path_id']\n",
    "\n",
    "constructor = \\\n",
    "    {\n",
    "        'id': 'gold_id',\n",
    "        'name': 'study_name',\n",
    "        'description': 'description'\n",
    "    }\n",
    "\n",
    "study_json_list = dop.make_json_string_list\\\n",
    "    (study_dictdf, nmdc.Study, constructor_map=constructor, attribute_fields=attributes)"
   ]
  },
  {
   "cell_type": "code",
   "execution_count": 9,
   "metadata": {},
   "outputs": [],
   "source": [
    "# print(json.dumps(json.loads(study_json_list[0]), indent=4)) ## peek at data\n",
    "# print(nmdc.Study.class_class_curie)"
   ]
  },
  {
   "cell_type": "markdown",
   "metadata": {},
   "source": [
    "## Test building project json"
   ]
  },
  {
   "cell_type": "code",
   "execution_count": 10,
   "metadata": {},
   "outputs": [],
   "source": [
    "project = dop.make_project_dataframe(project_table, study_table, contact_table)\n",
    "project_dictdf = project.to_dict(orient=\"records\") # transorm dataframe to dictionary\n",
    "# project.columns"
   ]
  },
  {
   "cell_type": "code",
   "execution_count": 11,
   "metadata": {},
   "outputs": [],
   "source": [
    "## specify characteristics\n",
    "attributes = \\\n",
    "    [\n",
    "      # {'part_of': ({'id': 'study_gold_id'}, nmdc.Study)},\n",
    "      'add_date', \n",
    "      'mod_date', \n",
    "      'completion_date', \n",
    "      'ncbi_project_name', \n",
    "      'omics_type', \n",
    "      'principal_investigator_name',\n",
    "      'processing_institution'\n",
    "    ]\n",
    "\n",
    "## if the constructor references an object (e.g., study)\n",
    "## put object info in a tuple with cl, and class type second\n",
    "constructor = \\\n",
    "    {\n",
    "        'id': 'gold_id',\n",
    "        'name': 'project_name',\n",
    "        'description': 'description'\n",
    "    }\n",
    "\n",
    "project_json_list = dop.make_json_string_list\\\n",
    "    (project_dictdf, nmdc.OmicsProcessing, constructor_map=constructor, attribute_fields=attributes)\n",
    "\n",
    "## create list of json string objects\n",
    "# project_json_list = dop.make_json_string_list\\\n",
    "#     (project_dictdf, nmdc.OmicsProcessing, id_key='gold_id', name_key='project_name', \n",
    "#      part_of_key=\"study_gold_id\", description_key=\"description\", attribute_fields=attributes)"
   ]
  },
  {
   "cell_type": "code",
   "execution_count": 12,
   "metadata": {},
   "outputs": [
    {
     "name": "stdout",
     "output_type": "stream",
     "text": [
      "{\n",
      "    \"id\": \"Gp0108340\",\n",
      "    \"name\": \"Thawing permafrost microbial communities from the Arctic, studying carbon transformations - Permafrost 612S3M\",\n",
      "    \"description\": NaN,\n",
      "    \"type\": \"nmdc:OmicsProcessing\",\n",
      "    \"add_date\": {\n",
      "        \"has_raw_value\": \"30-OCT-14 12.00.00.000000000 AM\"\n",
      "    },\n",
      "    \"mod_date\": {\n",
      "        \"has_raw_value\": \"22-MAY-20 06.10.59.590000000 PM\"\n",
      "    },\n",
      "    \"ncbi_project_name\": {\n",
      "        \"has_raw_value\": \"Thawing permafrost microbial communities from the Arctic, studying carbon transformations - Permafrost 612S3M\"\n",
      "    },\n",
      "    \"omics_type\": {\n",
      "        \"has_raw_value\": \"Metagenome\"\n",
      "    },\n",
      "    \"principal_investigator_name\": {\n",
      "        \"has_raw_value\": \"Virginia Rich\"\n",
      "    }\n",
      "}\n"
     ]
    }
   ],
   "source": [
    "print(json.dumps(json.loads(project_json_list[1]), indent=4)) ## peek at data"
   ]
  },
  {
   "cell_type": "markdown",
   "metadata": {},
   "source": [
    "## Test building biosample json"
   ]
  },
  {
   "cell_type": "code",
   "execution_count": 13,
   "metadata": {},
   "outputs": [
    {
     "data": {
      "text/plain": [
       "{'nmdc_record_id': '108335',\n",
       " 'add_date': '30-OCT-14 12.00.00.000000000 AM',\n",
       " 'altitude': nan,\n",
       " 'biogas_retention_time': nan,\n",
       " 'biogas_temperature': nan,\n",
       " 'biosample_id': '108335',\n",
       " 'biosample_name': 'Thawing permafrost microbial communities from the Arctic, studying carbon transformations - Permafrost 712P3D',\n",
       " 'chlorophyll_concentration': nan,\n",
       " 'community': 'microbial communities',\n",
       " 'depth': '0.0',\n",
       " 'description': nan,\n",
       " 'ecosystem': 'Environmental',\n",
       " 'ecosystem_category': 'Terrestrial',\n",
       " 'ecosystem_path_id': '4234',\n",
       " 'ecosystem_subtype': 'Wetlands',\n",
       " 'ecosystem_type': 'Soil',\n",
       " 'env_broad_scale': 'ENVO_00000446',\n",
       " 'env_local_scale': 'ENVO_00000489',\n",
       " 'env_medium': 'ENVO_00000134',\n",
       " 'geographic_location': 'Sweden: Kiruna',\n",
       " 'gold_id': 'Gb0108335',\n",
       " 'growth_temperature': nan,\n",
       " 'habitat': 'Thawing permafrost',\n",
       " 'host_name': nan,\n",
       " 'identifier': 'studying carbon transformations',\n",
       " 'latitude': '68.3534',\n",
       " 'location': 'from the Arctic',\n",
       " 'longitude': '19.0472',\n",
       " 'mod_date': '15-MAY-20 10.04.19.473000000 AM',\n",
       " 'ncbi_taxonomy_name': 'permafrost metagenome',\n",
       " 'nitrate_concentration': nan,\n",
       " 'oxygen_concentration': nan,\n",
       " 'ph': nan,\n",
       " 'pressure': nan,\n",
       " 'proport_woa_temperature': nan,\n",
       " 'salinity': nan,\n",
       " 'salinity_concentration': nan,\n",
       " 'sample_collection_day': '20.0',\n",
       " 'sample_collection_hour': nan,\n",
       " 'sample_collection_minute': nan,\n",
       " 'sample_collection_month': '7.0',\n",
       " 'sample_collection_site': 'Palsa',\n",
       " 'sample_collection_year': '2012.0',\n",
       " 'specific_ecosystem': 'Permafrost',\n",
       " 'subsurface_depth': nan,\n",
       " 'water_samp_store_temp': nan,\n",
       " 'project_id': '108335',\n",
       " 'project_gold_ids': 'Gp0108335',\n",
       " 'lat_lon': '68.3534 19.0472'}"
      ]
     },
     "execution_count": 13,
     "metadata": {},
     "output_type": "execute_result"
    }
   ],
   "source": [
    "biosample = dop.make_biosample_dataframe(biosample_table, project_biosample_table, project_table)\n",
    "biosample['lat_lon'] = biosample.apply(lambda row: dop.make_lat_lon(row.latitude, row.longitude), axis=1)\n",
    "# biosample.lat_lon\n",
    "biosample_dictdf = biosample.to_dict(orient=\"records\") # transorm dataframe to dictionary\n",
    "biosample_dictdf[0] ## peek at data"
   ]
  },
  {
   "cell_type": "code",
   "execution_count": 14,
   "metadata": {},
   "outputs": [],
   "source": [
    "## specify attributes\n",
    "attributes = \\\n",
    "    ['lat_lon',\n",
    "     'add_date',\n",
    "     'mod_date',\n",
    "     'ecosystem_path_id',\n",
    "     'ecosystem',\n",
    "     'ecosystem_category',\n",
    "     'ecosystem_type',\n",
    "     'ecosystem_subtype',\n",
    "     'specific_ecosystem',\n",
    "     'habitat',\n",
    "     'location',\n",
    "     'community',\n",
    "     'ncbi_taxonomy_name',\n",
    "     'geographic_location',\n",
    "     'latitude',\n",
    "     'longitude',\n",
    "     'sample_collection_site',\n",
    "     'identifier',\n",
    "     'sample_collection_year',\n",
    "     'sample_collection_month',\n",
    "     'sample_collection_day',\n",
    "     'sample_collection_hour',\n",
    "     'sample_collection_minute',\n",
    "     'host_name',\n",
    "     'depth',\n",
    "     'subsurface_depth',\n",
    "     'altitude',\n",
    "     'proport_woa_temperature',\n",
    "     'biogas_temperature',\n",
    "     'growth_temperature',\n",
    "     'water_samp_store_temp',\n",
    "     'biogas_retention_time',\n",
    "     'salinity',\n",
    "     'pressure',\n",
    "     'ph',\n",
    "     'chlorophyll_concentration',\n",
    "     'nitrate_concentration',\n",
    "     'oxygen_concentration',\n",
    "     'salinity_concentration',\n",
    "     {'part_of': ({'id': 'project_gold_ids'}, nmdc.OmicsProcessing)}\n",
    "    ]\n",
    "\n",
    "# removed in version 5: 'temperature_range', 'soil_annual_season_temp'\n",
    "\n",
    "## create dict of constructor args\n",
    "constructor = \\\n",
    "    {\n",
    "        'id': 'gold_id',\n",
    "        'name': 'biosample_name',\n",
    "        'description': 'description',\n",
    "        #'env_broad_scale': 'env_broad_scale',\n",
    "        #'env_local_scale': 'env_local_scale',\n",
    "        #'env_medium': 'env_medium',\n",
    "        'env_broad_scale': ({'has_raw_value':'env_broad_scale'}, nmdc.ControlledTermValue),\n",
    "        'env_local_scale': ({'has_raw_value':'env_local_scale'}, nmdc.ControlledTermValue),\n",
    "        'env_medium': ({'has_raw_value': 'env_medium'}, nmdc.ControlledTermValue),\n",
    "        'lat_lon': ({'latitude': 'latitude', 'longitude': 'longitude', 'has_raw_value': 'lat_lon'}, nmdc.GeolocationValue),\n",
    "        #'part_of': {'id': 'project_gold_ids', 'nmdc_entity_type': nmdc.OmicsProcessing.class_class_curie}\n",
    "    }\n",
    "\n",
    "# 'lat_lon': ({'latitude': 'latitude', 'longitude': 'longitude', 'has_raw_value': 'lat_lon'}, nmdc.GeolocationValue),"
   ]
  },
  {
   "cell_type": "code",
   "execution_count": 15,
   "metadata": {},
   "outputs": [
    {
     "data": {
      "text/plain": [
       "964"
      ]
     },
     "execution_count": 15,
     "metadata": {},
     "output_type": "execute_result"
    }
   ],
   "source": [
    "len(biosample)\n",
    "# biosample.columns\n",
    "# biosample.lat_lon"
   ]
  },
  {
   "cell_type": "code",
   "execution_count": 16,
   "metadata": {},
   "outputs": [],
   "source": [
    "## create list of json string objects\n",
    "biosample_json_list = dop.make_json_string_list\\\n",
    "    (biosample_dictdf, nmdc.Biosample, constructor_map=constructor, attribute_fields=attributes)\n",
    "\n",
    "# biosample_json_list = dop.make_json_string_list\\\n",
    "#     (biosample_dictdf, nmdc.Biosample, id_key='gold_id', name_key='biosample_name', \n",
    "#      part_of_key=\"project_gold_ids\", description_key=\"description\", attribute_fields=attributes)"
   ]
  },
  {
   "cell_type": "code",
   "execution_count": 17,
   "metadata": {},
   "outputs": [
    {
     "name": "stdout",
     "output_type": "stream",
     "text": [
      "{\n",
      "    \"id\": \"Gb0108335\",\n",
      "    \"name\": \"Thawing permafrost microbial communities from the Arctic, studying carbon transformations - Permafrost 712P3D\",\n",
      "    \"description\": NaN,\n",
      "    \"lat_lon\": {\n",
      "        \"has_raw_value\": \"68.3534 19.0472\",\n",
      "        \"latitude\": \"68.3534\",\n",
      "        \"longitude\": \"19.0472\",\n",
      "        \"type\": \"nmdc:GeolocationValue\"\n",
      "    },\n",
      "    \"env_broad_scale\": {\n",
      "        \"has_raw_value\": \"ENVO_00000446\",\n",
      "        \"type\": \"nmdc:ControlledTermValue\"\n",
      "    },\n",
      "    \"env_local_scale\": {\n",
      "        \"has_raw_value\": \"ENVO_00000489\",\n",
      "        \"type\": \"nmdc:ControlledTermValue\"\n",
      "    },\n",
      "    \"env_medium\": {\n",
      "        \"has_raw_value\": \"ENVO_00000134\",\n",
      "        \"type\": \"nmdc:ControlledTermValue\"\n",
      "    },\n",
      "    \"ecosystem\": {\n",
      "        \"has_raw_value\": \"Environmental\"\n",
      "    },\n",
      "    \"ecosystem_category\": {\n",
      "        \"has_raw_value\": \"Terrestrial\"\n",
      "    },\n",
      "    \"ecosystem_type\": {\n",
      "        \"has_raw_value\": \"Soil\"\n",
      "    },\n",
      "    \"ecosystem_subtype\": {\n",
      "        \"has_raw_value\": \"Wetlands\"\n",
      "    },\n",
      "    \"specific_ecosystem\": {\n",
      "        \"has_raw_value\": \"Permafrost\"\n",
      "    },\n",
      "    \"depth\": {\n",
      "        \"has_raw_value\": \"0.0\"\n",
      "    },\n",
      "    \"type\": \"nmdc:Biosample\",\n",
      "    \"add_date\": {\n",
      "        \"has_raw_value\": \"30-OCT-14 12.00.00.000000000 AM\"\n",
      "    },\n",
      "    \"community\": {\n",
      "        \"has_raw_value\": \"microbial communities\"\n",
      "    },\n",
      "    \"ecosystem_path_id\": {\n",
      "        \"has_raw_value\": \"4234\"\n",
      "    },\n",
      "    \"geographic_location\": {\n",
      "        \"has_raw_value\": \"Sweden: Kiruna\"\n",
      "    },\n",
      "    \"habitat\": {\n",
      "        \"has_raw_value\": \"Thawing permafrost\"\n",
      "    },\n",
      "    \"identifier\": {\n",
      "        \"has_raw_value\": \"studying carbon transformations\"\n",
      "    },\n",
      "    \"latitude\": {\n",
      "        \"has_raw_value\": \"68.3534\"\n",
      "    },\n",
      "    \"location\": {\n",
      "        \"has_raw_value\": \"from the Arctic\"\n",
      "    },\n",
      "    \"longitude\": {\n",
      "        \"has_raw_value\": \"19.0472\"\n",
      "    },\n",
      "    \"mod_date\": {\n",
      "        \"has_raw_value\": \"15-MAY-20 10.04.19.473000000 AM\"\n",
      "    },\n",
      "    \"ncbi_taxonomy_name\": {\n",
      "        \"has_raw_value\": \"permafrost metagenome\"\n",
      "    },\n",
      "    \"sample_collection_day\": {\n",
      "        \"has_raw_value\": \"20.0\"\n",
      "    },\n",
      "    \"sample_collection_month\": {\n",
      "        \"has_raw_value\": \"7.0\"\n",
      "    },\n",
      "    \"sample_collection_site\": {\n",
      "        \"has_raw_value\": \"Palsa\"\n",
      "    },\n",
      "    \"sample_collection_year\": {\n",
      "        \"has_raw_value\": \"2012.0\"\n",
      "    },\n",
      "    \"part_of\": [\n",
      "        {\n",
      "            \"id\": \"Gp0108335\",\n",
      "            \"type\": \"nmdc:OmicsProcessing\"\n",
      "        }\n",
      "    ]\n",
      "}\n"
     ]
    }
   ],
   "source": [
    "print(json.dumps(json.loads(biosample_json_list[0]), indent=4)) ## peek at data"
   ]
  },
  {
   "cell_type": "markdown",
   "metadata": {},
   "source": [
    "## Test building EMSL data"
   ]
  },
  {
   "cell_type": "code",
   "execution_count": 18,
   "metadata": {
    "jupyter": {
     "source_hidden": true
    }
   },
   "outputs": [],
   "source": [
    "# tmap = \\\n",
    "# {\n",
    "#  'nmdc_record_id': '108335',\n",
    "#  'add_date': '30-OCT-14 12.00.00.000000000 AM',\n",
    "#  'altitude': None,\n",
    "#  'biogas_retention_time': None,\n",
    "#  'biogas_temperature': None,\n",
    "#  'biosample_id': '108335',\n",
    "#  'biosample_name': 'Thawing permafrost microbial communities from the Arctic, studying carbon transformations - Permafrost 712P3D',\n",
    "#  'chlorophyll_concentration': None,\n",
    "#  'community': 'microbial communities',\n",
    "#  'depth': '0.0',\n",
    "#  'description': None,\n",
    "#  'ecosystem': 'Environmental',\n",
    "#  'ecosystem_category': 'Terrestrial',\n",
    "#  'ecosystem_path_id': '4234',\n",
    "#  'ecosystem_subtype': 'Wetlands',\n",
    "#  'ecosystem_type': 'Soil',\n",
    "#  'env_broad_scale': 'ENVO_00000446',\n",
    "#  'env_local_scale': 'ENVO_00000489',\n",
    "#  'env_medium': 'ENVO_00000134',\n",
    "#  'geographic_location': 'Sweden: Kiruna',\n",
    "#  'gold_id': 'Gb0108335',\n",
    "#  'growth_temperature': None,\n",
    "#  'habitat': 'Thawing permafrost',\n",
    "#  'host_name': None,\n",
    "#  'identifier': 'studying carbon transformations',\n",
    "#  'latitude': '68.3534',\n",
    "#  'location': 'from the Arctic',\n",
    "#  'longitude': '19.0472',\n",
    "#  'mod_date': '15-MAY-20 10.04.19.473000000 AM',\n",
    "#  'ncbi_taxonomy_name': 'permafrost metagenome',\n",
    "#  'nitrate_concentration': None,\n",
    "#  'oxygen_concentration': None,\n",
    "#  'ph': None,\n",
    "#  'pressure': None,\n",
    "#  'proport_woa_temperature': None,\n",
    "#  'salinity': None,\n",
    "#  'salinity_concentration': None,\n",
    "#  'sample_collection_day': '20.0',\n",
    "#  'sample_collection_hour': None,\n",
    "#  'sample_collection_minute': None,\n",
    "#  'sample_collection_month': '7.0',\n",
    "#  'sample_collection_site': 'Palsa',\n",
    "#  'sample_collection_year': '2012.0',\n",
    "#  'specific_ecosystem': 'Permafrost',\n",
    "#  'subsurface_depth': None,\n",
    "#  'water_samp_store_temp': None,\n",
    "#  'project_id': '108335',\n",
    "#  'project_gold_ids': 'Gp0108335',\n",
    "#  'lat_lon': '68.3534 19.0472'\n",
    "# }\n",
    "\n"
   ]
  },
  {
   "cell_type": "code",
   "execution_count": 19,
   "metadata": {},
   "outputs": [],
   "source": [
    "constructor_map = \\\n",
    "    {\n",
    "        'id': 'gold_id',\n",
    "        'name': 'biosample_name',\n",
    "        'description': 'description',\n",
    "        'env_broad_scale': ({'has_raw_value':'env_broad_scale'}, nmdc.ControlledTermValue),\n",
    "        'env_local_scale': ({'has_raw_value':'env_local_scale'}, nmdc.ControlledTermValue),\n",
    "        'env_medium': ({'has_raw_value': 'env_medium'}, nmdc.ControlledTermValue),\n",
    "        #'lat_lon': ({'has_raw_value': 'lat_lon'}, nmdc.GeolocationValue),\n",
    "        'lat_lon': ({'latitude': 'latitude', 'longitude': 'longitude', 'has_raw_value': 'lat_lon'}, nmdc.GeolocationValue)\n",
    "#         'part_of': {'id': 'project_gold_ids', 'nmdc_entity_type': nmdc.OmicsProcessing.class_class_curie}\n",
    "    }\n"
   ]
  },
  {
   "cell_type": "code",
   "execution_count": 20,
   "metadata": {},
   "outputs": [],
   "source": [
    "dictionary = \\\n",
    "[\n",
    "    {\n",
    "     'nmdc_record_id': '108335',\n",
    "     'depth': '0.0',\n",
    "     'biosample_name': 'record 1',\n",
    "     'description': None,\n",
    "     'ecosystem': 'Environmental',\n",
    "     'ecosystem_category': 'Terrestrial',\n",
    "     'ecosystem_path_id': '4234',\n",
    "     'ecosystem_subtype': 'Wetlands',\n",
    "     'ecosystem_type': 'Soil',\n",
    "     'env_broad_scale': 'ENVO_00000446',\n",
    "     'env_local_scale': 'ENVO_00000489',\n",
    "     'env_medium': 'ENVO_00000134',\n",
    "     'gold_id': 'Gb0108335',\n",
    "     'habitat': 'Thawing permafrost',\n",
    "     'host_name': None,\n",
    "     'latitude': '68.3534',\n",
    "     'longitude': '19.0472',\n",
    "     'ph': None,\n",
    "     'project_id': '108335',\n",
    "     'project_gold_ids': 'Gp0108335',\n",
    "     'lat_lon': '68.3534 19.0472'\n",
    "    },\n",
    "    {\n",
    "     'nmdc_record_id': '108999',\n",
    "     'depth': '10.0',\n",
    "     'biosample_name': 'record 2',\n",
    "     'description': None,\n",
    "     'ecosystem': 'Environmental',\n",
    "     'ecosystem_category': 'Soil',\n",
    "     'ecosystem_path_id': '4234',\n",
    "     'ecosystem_subtype': 'Wetlands',\n",
    "     'ecosystem_type': 'Soil',\n",
    "     'env_broad_scale': 'ENVO_00000446',\n",
    "     'env_local_scale': 'ENVO_00000489',\n",
    "     'env_medium': 'ENVO_00000134',\n",
    "     'gold_id': 'Gb0108335',\n",
    "     'habitat': 'Thawing permafrost',\n",
    "     'host_name': None,\n",
    "     'latitude': '68.3534',\n",
    "     'longitude': '19.0472',\n",
    "     'ph': None,\n",
    "     'project_id': '108335',\n",
    "     'project_gold_ids': 'Gp0108335',\n",
    "     'lat_lon': '68.3534 19.0472'\n",
    "    }\n",
    "]\n",
    "\n"
   ]
  },
  {
   "cell_type": "code",
   "execution_count": 21,
   "metadata": {},
   "outputs": [],
   "source": [
    "single = \\\n",
    "[\n",
    "  {\n",
    "     'nmdc_record_id': '108335',\n",
    "     'depth': '0.0',\n",
    "     'biosample_name': 'record single',\n",
    "     'description': None,\n",
    "     'ecosystem': 'Environmental',\n",
    "     'ecosystem_category': 'Terrestrial',\n",
    "     'ecosystem_path_id': '4234',\n",
    "     'ecosystem_subtype': 'Wetlands',\n",
    "     'ecosystem_type': 'Soil',\n",
    "     'env_broad_scale': 'ENVO_00000446',\n",
    "     'env_local_scale': 'ENVO_00000489',\n",
    "     'env_medium': 'ENVO_00000134',\n",
    "     'gold_id': 'Gb0108335',\n",
    "     'habitat': 'Thawing permafrost',\n",
    "     'host_name': None,\n",
    "     'latitude': '68.3534',\n",
    "     'longitude': '19.0472',\n",
    "     'ph': None,\n",
    "     'project_id': '108335',\n",
    "     'project_gold_ids': 'Gp0108335',\n",
    "     'lat_lon': '68.3534 19.0472'\n",
    "    }\n",
    "]"
   ]
  },
  {
   "cell_type": "code",
   "execution_count": 22,
   "metadata": {},
   "outputs": [],
   "source": [
    "## specify attributes\n",
    "attributes = \\\n",
    "    ['lat_lon',\n",
    "     'ecosystem_path_id',\n",
    "     'ecosystem',\n",
    "     'ecosystem_category',\n",
    "     'ecosystem_type',\n",
    "     'ecosystem_subtype',\n",
    "     'specific_ecosystem',\n",
    "     'latitude',\n",
    "     'longitude',\n",
    "     'depth',\n",
    "     'altitude',\n",
    "     'pressure',\n",
    "     'ph',\n",
    "     {'part_of': ({'id': 'project_gold_ids'}, nmdc.OmicsProcessing)}\n",
    "    ]"
   ]
  },
  {
   "cell_type": "code",
   "execution_count": 23,
   "metadata": {},
   "outputs": [],
   "source": [
    "def make_attribute_value (data_value):\n",
    "    \"\"\"\n",
    "    Local function used to create attribute_value object linked the the raw value.\n",
    "    \"\"\"\n",
    "    av = nmdc.AttributeValue()\n",
    "    av.has_raw_value = data_value\n",
    "\n",
    "    return av\n",
    "\n",
    "def map_slot_to_entity_2(slot_map, record):\n",
    "#   {'part_of': ({'id': 'project_gold_ids'}, nmdc.OmicsProcessing)}\n",
    "    slot_name = list(slot_map.keys())[0]\n",
    "    slot_value = list(slot_map.values())[0]\n",
    "    param_dict = slot_value[0]\n",
    "    nmdc_class = slot_value[1]\n",
    "    id_field = param_dict['id']\n",
    "\n",
    "    if slot_name in ['part_of', 'has_input', 'has_output']:\n",
    "        id_values = record[id_field].split(',')\n",
    "        referenced_obj = [nmdc_class(**{'id':id_val}) for id_val in id_values]\n",
    "    else:\n",
    "        referenced_obj = nmdc_class(**{'id':record[id_field]})\n",
    "    \n",
    "    return referenced_obj\n",
    "\n",
    "def map_slot_to_entity_1(slot_map, record):\n",
    "#   {'part_of': ({'id': 'project_gold_ids'}, nmdc.OmicsProcessing)}\n",
    "    slot_name = list(slot_map.keys())[0]\n",
    "    slot_value = list(slot_map.values())[0]\n",
    "    param_dict = slot_value[0]\n",
    "    nmdc_class = slot_value[1]\n",
    "    id_field = param_dict['id']\n",
    "\n",
    "    if slot_name in ['part_of', 'has_input', 'has_output']:\n",
    "        id_values = record[id_field].split(',')\n",
    "        referenced_entity = [nmdc_class(**{'id':id_val}) for id_val in id_values]\n",
    "    else:\n",
    "        referenced_entity = nmdc_class(**{'id':record[id_field]})\n",
    "    \n",
    "    return referenced_entity\n",
    "\n",
    "def make_param_args (param_map, record):\n",
    "    ## for every mapping between a key and data field create a dict\n",
    "    ## of the parameters needed to instantiate the class\n",
    "    result_dict = {}\n",
    "    for param_key, param_value in param_map.items():\n",
    "        ## check if param value is a dict; dicts are handled differently\n",
    "        if type({}) != type(param_value):\n",
    "            ## if the value is a tuple, index 0 is param dict, index 1 is the class\n",
    "            ## e.g., lat_lon': ('lat_lon', nmdc.GeolocationValue)\n",
    "            if type(()) == type(param_value):\n",
    "                params = { key: record[value] for key, value in param_value[0].items()}\n",
    "                result_dict[param_key] = param_value[1](**params)\n",
    "            else:\n",
    "                result_dict[param_key] = record[param_value]\n",
    "\n",
    "    return result_dict"
   ]
  },
  {
   "cell_type": "code",
   "execution_count": 24,
   "metadata": {},
   "outputs": [],
   "source": [
    "# for record_key, record_value in tmap.items():\n",
    "#     print(record_value)\n",
    "records_dict = dictionary\n",
    "# records_dict = single\n",
    "# print(len(records_dict))\n",
    "\n",
    "obj_list = []\n",
    "for record in records_dict:\n",
    "    constructor_args = make_param_args(constructor_map, record)\n",
    "    obj = nmdc.Biosample(**constructor_args)\n",
    "    obj_list.append(json.loads(jsonasobj.as_json(obj)))\n",
    "#     obj_list.append(obj)\n",
    "#     obj_list.append(jsonasobj.as_json(obj))\n",
    "# json.dumps(obj_list[0], indent=4)"
   ]
  },
  {
   "cell_type": "code",
   "execution_count": 25,
   "metadata": {},
   "outputs": [
    {
     "name": "stdout",
     "output_type": "stream",
     "text": [
      "{\n",
      "    \"id\": \"Gb0108335\",\n",
      "    \"name\": \"record 1\",\n",
      "    \"lat_lon\": {\n",
      "        \"has_raw_value\": \"68.3534 19.0472\",\n",
      "        \"latitude\": \"68.3534\",\n",
      "        \"longitude\": \"19.0472\"\n",
      "    },\n",
      "    \"env_broad_scale\": {\n",
      "        \"has_raw_value\": \"ENVO_00000446\"\n",
      "    },\n",
      "    \"env_local_scale\": {\n",
      "        \"has_raw_value\": \"ENVO_00000489\"\n",
      "    },\n",
      "    \"env_medium\": {\n",
      "        \"has_raw_value\": \"ENVO_00000134\"\n",
      "    }\n",
      "}\n"
     ]
    }
   ],
   "source": [
    "json_list = []  # list to hold json\n",
    "    \n",
    "## iterate over dict list\n",
    "for d in obj_list:\n",
    "    json_list.append(json.dumps(d))\n",
    "\n",
    "print(json.dumps(json.loads(json_list[0]), indent=4))\n",
    "# print(json.dumps(json_list[0], indent=4))"
   ]
  },
  {
   "cell_type": "code",
   "execution_count": 26,
   "metadata": {},
   "outputs": [
    {
     "name": "stdout",
     "output_type": "stream",
     "text": [
      "{\n",
      "    \"id\": \"foobar\",\n",
      "    \"depth\": {\n",
      "        \"has_raw_value\": \"0.0\"\n",
      "    },\n",
      "    \"ecosystem\": {\n",
      "        \"has_raw_value\": \"Environmental\"\n",
      "    },\n",
      "    \"ecosystem_category\": {\n",
      "        \"has_raw_value\": \"Terrestrial\"\n",
      "    },\n",
      "    \"ecosystem_path_id\": {\n",
      "        \"has_raw_value\": \"4234\"\n",
      "    },\n",
      "    \"ecosystem_subtype\": {\n",
      "        \"has_raw_value\": \"Wetlands\"\n",
      "    },\n",
      "    \"ecosystem_type\": {\n",
      "        \"has_raw_value\": \"Soil\"\n",
      "    },\n",
      "    \"latitude\": {\n",
      "        \"has_raw_value\": \"68.3534\"\n",
      "    },\n",
      "    \"longitude\": {\n",
      "        \"has_raw_value\": \"19.0472\"\n",
      "    },\n",
      "    \"lat_lon\": {\n",
      "        \"has_raw_value\": \"68.3534 19.0472\"\n",
      "    },\n",
      "    \"part_of\": [\n",
      "        {\n",
      "            \"id\": \"Gp0108335\"\n",
      "        }\n",
      "    ]\n",
      "}\n"
     ]
    }
   ],
   "source": [
    "# records_dict = dictionary\n",
    "records_dict = single\n",
    "nmdc_class = nmdc.NamedThing\n",
    "\n",
    "obj_list = []\n",
    "for af in attributes:\n",
    "    if type({}) == type(af): af = list(af.keys())[0]  ##### add this !!\n",
    "    if not hasattr(nmdc_class, af): setattr(nmdc_class, af, None)\n",
    "\n",
    "# print(nmdc_class)   \n",
    "\n",
    "for record in records_dict:\n",
    "    obj = nmdc_class(id='foobar')\n",
    "    \n",
    "    for key, item in record.items():\n",
    "        if (not pds.isnull(item)) and ('' != item) and (not (item is None)) and (key in attributes):\n",
    "            av = make_attribute_value(item)\n",
    "            setattr(obj, key, av)\n",
    "            \n",
    "    for af in attributes:\n",
    "        if type({}) == type(af):\n",
    "            slot_name = list(af.keys())[0]\n",
    "            \n",
    "            if 'part_of' == slot_name:\n",
    "                obj.part_of = map_slot_to_entity_1(af, record)\n",
    "            \n",
    "    obj_list.append(json.loads(jsonasobj.as_json(obj)))\n",
    "\n",
    "print(json.dumps(obj_list[0], indent=4))"
   ]
  },
  {
   "cell_type": "code",
   "execution_count": null,
   "metadata": {},
   "outputs": [],
   "source": []
  },
  {
   "cell_type": "code",
   "execution_count": null,
   "metadata": {},
   "outputs": [],
   "source": []
  },
  {
   "cell_type": "code",
   "execution_count": 27,
   "metadata": {},
   "outputs": [],
   "source": [
    "x = {'a': 1, 'b': 2, 'c': 3}"
   ]
  },
  {
   "cell_type": "code",
   "execution_count": 28,
   "metadata": {},
   "outputs": [
    {
     "name": "stdout",
     "output_type": "stream",
     "text": [
      "1\n",
      "2\n",
      "3\n"
     ]
    }
   ],
   "source": [
    "for z_key, z_value in x.items():\n",
    "    print(x[z_key])"
   ]
  },
  {
   "cell_type": "code",
   "execution_count": 29,
   "metadata": {},
   "outputs": [
    {
     "data": {
      "text/plain": [
       "2"
      ]
     },
     "execution_count": 29,
     "metadata": {},
     "output_type": "execute_result"
    }
   ],
   "source": [
    "len(dictionary)"
   ]
  },
  {
   "cell_type": "code",
   "execution_count": 30,
   "metadata": {},
   "outputs": [
    {
     "data": {
      "text/plain": [
       "dict_keys(['a', 'b', 'c'])"
      ]
     },
     "execution_count": 30,
     "metadata": {},
     "output_type": "execute_result"
    }
   ],
   "source": [
    "x.keys()"
   ]
  },
  {
   "cell_type": "code",
   "execution_count": 31,
   "metadata": {},
   "outputs": [],
   "source": [
    "d = {'a':1}"
   ]
  },
  {
   "cell_type": "code",
   "execution_count": 32,
   "metadata": {},
   "outputs": [
    {
     "data": {
      "text/plain": [
       "'a'"
      ]
     },
     "execution_count": 32,
     "metadata": {},
     "output_type": "execute_result"
    }
   ],
   "source": [
    "list(d.keys())[0]"
   ]
  },
  {
   "cell_type": "code",
   "execution_count": 33,
   "metadata": {},
   "outputs": [
    {
     "data": {
      "text/plain": [
       "{'a': 1}"
      ]
     },
     "execution_count": 33,
     "metadata": {},
     "output_type": "execute_result"
    }
   ],
   "source": [
    "d"
   ]
  },
  {
   "cell_type": "code",
   "execution_count": 34,
   "metadata": {},
   "outputs": [
    {
     "data": {
      "text/plain": [
       "1"
      ]
     },
     "execution_count": 34,
     "metadata": {},
     "output_type": "execute_result"
    }
   ],
   "source": [
    "list(d.values())[0]"
   ]
  },
  {
   "cell_type": "code",
   "execution_count": 35,
   "metadata": {},
   "outputs": [
    {
     "data": {
      "text/plain": [
       "Study(id='Gs1001', name=None, description=None, alternate_identifiers=[], submitted_to_insdc=None, investigation_type=None, project_name=None, experimental_factor=None)"
      ]
     },
     "execution_count": 35,
     "metadata": {},
     "output_type": "execute_result"
    }
   ],
   "source": [
    "study_obj = nmdc.Study(**{'id': 'Gs1001'})\n",
    "study_obj"
   ]
  },
  {
   "cell_type": "code",
   "execution_count": 36,
   "metadata": {},
   "outputs": [
    {
     "data": {
      "text/plain": [
       "{'id': 'Gs1001'}"
      ]
     },
     "execution_count": 36,
     "metadata": {},
     "output_type": "execute_result"
    }
   ],
   "source": [
    "json.loads(jsonasobj.as_json(study_obj))"
   ]
  },
  {
   "cell_type": "code",
   "execution_count": null,
   "metadata": {},
   "outputs": [],
   "source": []
  }
 ],
 "metadata": {
  "kernelspec": {
   "display_name": "Python 3",
   "language": "python",
   "name": "python3"
  },
  "language_info": {
   "codemirror_mode": {
    "name": "ipython",
    "version": 3
   },
   "file_extension": ".py",
   "mimetype": "text/x-python",
   "name": "python",
   "nbconvert_exporter": "python",
   "pygments_lexer": "ipython3",
   "version": "3.7.4"
  }
 },
 "nbformat": 4,
 "nbformat_minor": 4
}
