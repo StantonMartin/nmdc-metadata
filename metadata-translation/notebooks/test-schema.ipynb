{
 "cells": [
  {
   "cell_type": "code",
   "execution_count": null,
   "metadata": {},
   "outputs": [],
   "source": [
    "import os, sys\n",
    "sys.path.append(os.path.abspath('../src/bin/lib/')) # add path to lib"
   ]
  },
  {
   "cell_type": "code",
   "execution_count": 2,
   "metadata": {},
   "outputs": [],
   "source": [
    "import yaml\n",
    "import json\n",
    "from yaml import CLoader as Loader, CDumper as Dumper\n",
    "import data_operations as dop\n",
    "from dotted_dict import DottedDict\n",
    "from collections import namedtuple\n",
    "import nmdc\n",
    "import data_operations as dop\n",
    "from pandasql import sqldf\n",
    "from pprint import pprint\n",
    "import pandas as pds\n",
    "def pysqldf(q):\n",
    "    return sqldf(q, globals())"
   ]
  },
  {
   "cell_type": "code",
   "execution_count": 3,
   "metadata": {},
   "outputs": [],
   "source": [
    "spec_file = \"../src/bin/lib/nmdc_data_source.yaml\"\n",
    "with open(spec_file, 'r') as input_file:\n",
    "    spec = DottedDict(yaml.load(input_file, Loader=Loader))"
   ]
  },
  {
   "cell_type": "code",
   "execution_count": 4,
   "metadata": {},
   "outputs": [],
   "source": [
    "## build merged dataframe from data sources specified in the spec file\n",
    "# mdf = dop.make_dataframe_from_spec_file (spec_file, nrows=20) #  for testing grab 20 rows\n",
    "# mdf = dop.make_dataframe_from_spec_file (spec_file, nrows=5) #  for testing grab 5 rows\n",
    "# mdf = dop.make_dataframe_from_spec_file (spec_file)\n",
    "\n",
    "## read data from saved file\n",
    "mdf = pds.read_csv('../src/data/nmdc_merged_data.tsv.zip', sep='\\t', dtype=str)\n",
    "# mdf = pds.read_csv('../src/data/nmdc_merged_data.tsv.zip', sep='\\t', dtype=str, nrows=100)"
   ]
  },
  {
   "cell_type": "code",
   "execution_count": 5,
   "metadata": {},
   "outputs": [],
   "source": [
    "# mdf.to_csv('../src/data/nmdc_merged_data.tsv', sep='\\t', index=False) # save mergd data"
   ]
  },
  {
   "cell_type": "markdown",
   "metadata": {},
   "source": [
    "## Test building study json"
   ]
  },
  {
   "cell_type": "code",
   "execution_count": 18,
   "metadata": {},
   "outputs": [],
   "source": [
    "study_table = dop.extract_table(mdf, 'study_table')\n",
    "contact_table = dop.extract_table(mdf, 'contact_table')\n",
    "proposals_table = dop.extract_table(mdf, 'proposals_table')\n",
    "project_table = dop.extract_table(mdf, 'project_table')\n",
    "project_biosample_table = dop.extract_table(mdf, 'project_biosample_table')\n",
    "biosample_table = dop.extract_table(mdf, 'biosample_table')"
   ]
  },
  {
   "cell_type": "code",
   "execution_count": 7,
   "metadata": {},
   "outputs": [],
   "source": [
    "study = dop.make_study_dataframe(study_table, contact_table, proposals_table)\n",
    "study_dictdf = study.to_dict(orient=\"records\") # transorm dataframe to dictionary"
   ]
  },
  {
   "cell_type": "code",
   "execution_count": 8,
   "metadata": {},
   "outputs": [],
   "source": [
    "## specify attributes\n",
    "attributes = \\\n",
    "    ['gold_study_name', 'principal_investigator_name', 'add_date', 'mod_date', 'doi',\n",
    "      'ecosystem', 'ecosystem_category', 'ecosystem_type', 'ecosystem_subtype', 'specific_ecosystem', 'ecosystem_path_id']\n",
    "\n",
    "constructor = \\\n",
    "    {\n",
    "        'id': 'gold_id',\n",
    "        'name': 'study_name',\n",
    "        'description': 'description'\n",
    "    }\n",
    "\n",
    "study_json_list = dop.make_json_string_list\\\n",
    "    (study_dictdf, nmdc.Study, constructor_map=constructor, attribute_fields=attributes)"
   ]
  },
  {
   "cell_type": "code",
   "execution_count": 9,
   "metadata": {},
   "outputs": [],
   "source": [
    "# print(json.dumps(json.loads(study_json_list[0]), indent=4)) ## peek at data\n",
    "# print(nmdc.Study.class_class_curie)"
   ]
  },
  {
   "cell_type": "markdown",
   "metadata": {},
   "source": [
    "## Test building project json"
   ]
  },
  {
   "cell_type": "code",
   "execution_count": 10,
   "metadata": {},
   "outputs": [],
   "source": [
    "project = dop.make_project_dataframe(project_table, study_table, contact_table)\n",
    "project_dictdf = project.to_dict(orient=\"records\") # transorm dataframe to dictionary\n",
    "# project.columns"
   ]
  },
  {
   "cell_type": "code",
   "execution_count": 11,
   "metadata": {},
   "outputs": [],
   "source": [
    "## specify characteristics\n",
    "attributes = \\\n",
    "    ['add_date', 'mod_date', 'completion_date', 'ncbi_project_name', 'omics_type', 'principal_investigator_name', 'processing_institution']\n",
    "\n",
    "## if the constructor references an object (e.g., study)\n",
    "## put object info in a tuple with cl, and class type second\n",
    "constructor = \\\n",
    "    {\n",
    "        'id': 'gold_id',\n",
    "        'name': 'project_name',\n",
    "        'description': 'description',\n",
    "        'part_of': ({'id': 'study_gold_id'}, nmdc.Study)\n",
    "    }\n",
    "\n",
    "project_json_list = dop.make_json_string_list\\\n",
    "    (project_dictdf, nmdc.OmicsProcessing, constructor_map=constructor, attribute_fields=attributes)\n",
    "\n",
    "## create list of json string objects\n",
    "# project_json_list = dop.make_json_string_list\\\n",
    "#     (project_dictdf, nmdc.OmicsProcessing, id_key='gold_id', name_key='project_name', \n",
    "#      part_of_key=\"study_gold_id\", description_key=\"description\", attribute_fields=attributes)"
   ]
  },
  {
   "cell_type": "code",
   "execution_count": 12,
   "metadata": {},
   "outputs": [
    {
     "name": "stdout",
     "output_type": "stream",
     "text": [
      "{\n",
      "    \"id\": \"Gp0108340\",\n",
      "    \"name\": \"Thawing permafrost microbial communities from the Arctic, studying carbon transformations - Permafrost 612S3M\",\n",
      "    \"description\": NaN,\n",
      "    \"part_of\": [\n",
      "        {\n",
      "            \"id\": \"Gs0112340\",\n",
      "            \"nmdc_entity_type\": \"nmdc:Study\"\n",
      "        }\n",
      "    ],\n",
      "    \"nmdc_entity_type\": \"nmdc:OmicsProcessing\",\n",
      "    \"add_date\": {\n",
      "        \"has_raw_value\": \"30-OCT-14 12.00.00.000000000 AM\"\n",
      "    },\n",
      "    \"mod_date\": {\n",
      "        \"has_raw_value\": \"19-NOV-19 02.18.17.168000000 AM\"\n",
      "    },\n",
      "    \"ncbi_project_name\": {\n",
      "        \"has_raw_value\": \"Thawing permafrost microbial communities from the Arctic, studying carbon transformations - Permafrost 612S3M\"\n",
      "    },\n",
      "    \"omics_type\": {\n",
      "        \"has_raw_value\": \"Metagenome\"\n",
      "    },\n",
      "    \"principal_investigator_name\": {\n",
      "        \"has_raw_value\": \"Virginia Rich\"\n",
      "    }\n",
      "}\n"
     ]
    }
   ],
   "source": [
    "print(json.dumps(json.loads(project_json_list[1]), indent=4)) ## peek at data"
   ]
  },
  {
   "cell_type": "markdown",
   "metadata": {},
   "source": [
    "## Test building biosample json"
   ]
  },
  {
   "cell_type": "code",
   "execution_count": 19,
   "metadata": {},
   "outputs": [
    {
     "data": {
      "text/plain": [
       "{'nmdc_record_id': '108335',\n",
       " 'add_date': '30-OCT-14 12.00.00.000000000 AM',\n",
       " 'altitude': '0.0',\n",
       " 'biogas_retention_time': nan,\n",
       " 'biogas_temperature': nan,\n",
       " 'biosample_id': '108335',\n",
       " 'biosample_name': 'Thawing permafrost microbial communities from the Arctic, studying carbon transformations - Permafrost 712P3D',\n",
       " 'chlorophyll_concentration': nan,\n",
       " 'community': 'microbial communities',\n",
       " 'depth': '0.0',\n",
       " 'description': nan,\n",
       " 'ecosystem': 'Environmental',\n",
       " 'ecosystem_category': 'Terrestrial',\n",
       " 'ecosystem_path_id': '4206',\n",
       " 'ecosystem_subtype': 'Unclassified',\n",
       " 'ecosystem_type': 'Soil',\n",
       " 'geographic_location': 'Sweden: Kiruna',\n",
       " 'gold_id': 'Gb0108335',\n",
       " 'growth_temperature': nan,\n",
       " 'habitat': 'Thawing permafrost',\n",
       " 'host_name': nan,\n",
       " 'identifier': 'studying carbon transformations',\n",
       " 'latitude': '68.3534',\n",
       " 'location': 'from the Arctic',\n",
       " 'longitude': '19.0472',\n",
       " 'mod_date': '20-APR-18 03.15.48.000000000 PM',\n",
       " 'ncbi_taxonomy_name': 'permafrost metagenome',\n",
       " 'nitrate_concentration': nan,\n",
       " 'oxygen_concentration': nan,\n",
       " 'ph': nan,\n",
       " 'pressure': nan,\n",
       " 'proport_woa_temperature': nan,\n",
       " 'salinity': nan,\n",
       " 'salinity_concentration': nan,\n",
       " 'sample_collection_day': '20.0',\n",
       " 'sample_collection_hour': nan,\n",
       " 'sample_collection_minute': nan,\n",
       " 'sample_collection_month': '7.0',\n",
       " 'sample_collection_site': 'Palsa',\n",
       " 'sample_collection_year': '2012.0',\n",
       " 'soil_annual_season_temp': nan,\n",
       " 'specific_ecosystem': 'Permafrost',\n",
       " 'subsurface_depth': nan,\n",
       " 'temperature_range': nan,\n",
       " 'water_samp_store_temp': nan,\n",
       " 'project_id': '108335',\n",
       " 'project_gold_ids': 'Gp0108335',\n",
       " 'lat_lon': '68.3534 19.0472'}"
      ]
     },
     "execution_count": 19,
     "metadata": {},
     "output_type": "execute_result"
    }
   ],
   "source": [
    "biosample = dop.make_biosample_dataframe(biosample_table, project_biosample_table, project_table)\n",
    "biosample['lat_lon'] = biosample.apply(lambda row: dop.make_lat_lon(row.latitude, row.longitude), axis=1)\n",
    "# biosample.lat_lon\n",
    "biosample_dictdf = biosample.to_dict(orient=\"records\") # transorm dataframe to dictionary\n",
    "# biosample_dictdf[0] ## peek at data"
   ]
  },
  {
   "cell_type": "code",
   "execution_count": 20,
   "metadata": {},
   "outputs": [],
   "source": [
    "## specify attributes\n",
    "attributes = \\\n",
    "    ['lat_lon',\n",
    "     'add_date',\n",
    "     'mod_date',\n",
    "     'ecosystem_path_id',\n",
    "     'ecosystem',\n",
    "     'ecosystem_category',\n",
    "     'ecosystem_type',\n",
    "     'ecosystem_subtype',\n",
    "     'specific_ecosystem',\n",
    "     'habitat',\n",
    "     'location',\n",
    "     'community',\n",
    "     'ncbi_taxonomy_name',\n",
    "     'geographic_location',\n",
    "     'latitude',\n",
    "     'longitude',\n",
    "     'sample_collection_site',\n",
    "     'identifier',\n",
    "     'sample_collection_year',\n",
    "     'sample_collection_month',\n",
    "     'sample_collection_day',\n",
    "     'sample_collection_hour',\n",
    "     'sample_collection_minute',\n",
    "     'host_name',\n",
    "     'depth',\n",
    "     'subsurface_depth',\n",
    "     'altitude',\n",
    "     'temperature_range',\n",
    "     'proport_woa_temperature',\n",
    "     'biogas_temperature',\n",
    "     'growth_temperature',\n",
    "     'soil_annual_season_temp',\n",
    "     'water_samp_store_temp',\n",
    "     'biogas_retention_time',\n",
    "     'salinity',\n",
    "     'pressure',\n",
    "     'ph',\n",
    "     'chlorophyll_concentration',\n",
    "     'nitrate_concentration',\n",
    "     'oxygen_concentration',\n",
    "     'salinity_concentration'\n",
    "    ]\n",
    "## create dict of constructor args\n",
    "constructor_map = \\\n",
    "    {\n",
    "        'id': 'gold_id',\n",
    "        'name': 'biosample_name',\n",
    "        'description': 'description',\n",
    "        'lat_lon': 'lat_lon',\n",
    "        'env_broad_scale': 'env_broad_scale',\n",
    "        'env_local_scale': 'env_local_scale',\n",
    "        'env_medium': 'env_medium'\n",
    "    }"
   ]
  },
  {
   "cell_type": "code",
   "execution_count": 21,
   "metadata": {},
   "outputs": [],
   "source": [
    "# len(biosample)"
   ]
  },
  {
   "cell_type": "code",
   "execution_count": 22,
   "metadata": {},
   "outputs": [
    {
     "ename": "TypeError",
     "evalue": "make_json_string_list() got an unexpected keyword argument 'id_key'",
     "output_type": "error",
     "traceback": [
      "\u001b[0;31m---------------------------------------------------------------------------\u001b[0m",
      "\u001b[0;31mTypeError\u001b[0m                                 Traceback (most recent call last)",
      "\u001b[0;32m<ipython-input-22-b167dfa7a2ef>\u001b[0m in \u001b[0;36m<module>\u001b[0;34m\u001b[0m\n\u001b[1;32m      2\u001b[0m \u001b[0mbiosample_json_list\u001b[0m \u001b[0;34m=\u001b[0m \u001b[0mdop\u001b[0m\u001b[0;34m.\u001b[0m\u001b[0mmake_json_string_list\u001b[0m\u001b[0;31m\\\u001b[0m\u001b[0;34m\u001b[0m\u001b[0;34m\u001b[0m\u001b[0m\n\u001b[1;32m      3\u001b[0m     (biosample_dictdf, nmdc.Biosample, id_key='gold_id', name_key='biosample_name', \n\u001b[0;32m----> 4\u001b[0;31m      part_of_key=\"project_gold_ids\", description_key=\"description\", attribute_fields=attributes)\n\u001b[0m",
      "\u001b[0;31mTypeError\u001b[0m: make_json_string_list() got an unexpected keyword argument 'id_key'"
     ]
    }
   ],
   "source": [
    "## create list of json string objects\n",
    "biosample_json_list = dop.make_json_string_list\\\n",
    "    (biosample_dictdf, nmdc.Biosample, id_key='gold_id', name_key='biosample_name', \n",
    "     part_of_key=\"project_gold_ids\", description_key=\"description\", attribute_fields=attributes)"
   ]
  },
  {
   "cell_type": "code",
   "execution_count": null,
   "metadata": {},
   "outputs": [],
   "source": [
    "# print(json.dumps(json.loads(biosample_json_list[0]), indent=4)) ## peek at data"
   ]
  },
  {
   "cell_type": "markdown",
   "metadata": {},
   "source": [
    "## Test building EMSL data"
   ]
  },
  {
   "cell_type": "code",
   "execution_count": null,
   "metadata": {},
   "outputs": [],
   "source": []
  }
 ],
 "metadata": {
  "kernelspec": {
   "display_name": "Python 3",
   "language": "python",
   "name": "python3"
  },
  "language_info": {
   "codemirror_mode": {
    "name": "ipython",
    "version": 3
   },
   "file_extension": ".py",
   "mimetype": "text/x-python",
   "name": "python",
   "nbconvert_exporter": "python",
   "pygments_lexer": "ipython3",
   "version": "3.7.4"
  }
 },
 "nbformat": 4,
 "nbformat_minor": 4
}
