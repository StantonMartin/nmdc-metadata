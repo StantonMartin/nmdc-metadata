{
 "cells": [
  {
   "cell_type": "markdown",
   "metadata": {},
   "source": [
    "## Translate GOLD study, project, and biosample data into json.\n",
    "The notebooks demostrates how to translate study, project, and biosample data from the GOLD database into json that conforms with the [NMDC schema](https://github.com/microbiomedata/nmdc-metadata/blob/schema-draft/README.md).  \n",
    "Before doing the translation it is important that you have an up to date `nmdc.py` file in the `lib` directory.  \n",
    "\n",
    "The python modules for running the notebook are in the `requirements.txt` file."
   ]
  },
  {
   "cell_type": "code",
   "execution_count": 1,
   "metadata": {},
   "outputs": [],
   "source": [
    "import json\n",
    "import pandas as pds\n",
    "import jsonasobj\n",
    "import lib.nmdc as nmdc\n",
    "import lib.data_operations as dop\n",
    "from pandasql import sqldf\n",
    "\n",
    "def pysqldf(q):\n",
    "    return sqldf(q, globals())"
   ]
  },
  {
   "cell_type": "markdown",
   "metadata": {},
   "source": [
    "## Load tables (i.e., tab delimited files) from nmdc zip file\n",
    "The NMDC data is currently stored in a zip file. Instead of unzipping the file, simply use the `zipfile` library to load the `study`, `project`, `project_biosample`, and `biosample` tables (stored as tab-delimited files). The `project_biosample` table is needed as a cross-linking table between `project` and `biosample`.  \n",
    "\n",
    "The code for unzipping and creating the dataframe is found in the `make_dataframe` function. As part of the dataframe creation process, the column names are lower cased and spaces are replaced with underscored. I find it helpful to have some standarization on column names when doing data wrangling. This behavior can be overridden if you wish."
   ]
  },
  {
   "cell_type": "code",
   "execution_count": 2,
   "metadata": {},
   "outputs": [],
   "source": [
    "study = dop.make_dataframe(\"export.sql/STUDY_DATA_TABLE.dsv\", file_archive_name=\"data/nmdc-version2.zip\")\n",
    "project = dop.make_dataframe(\"export.sql/PROJECT_DATA_TABLE.dsv\", file_archive_name=\"data/nmdc-version2.zip\")\n",
    "project_biosample = dop.make_dataframe(\"export.sql/PROJECT_BIOSAMPLE_DATA_TABLE.dsv\", file_archive_name=\"data/nmdc-version2.zip\")\n",
    "biosample = dop.make_dataframe(\"export.sql/BIOSAMPLE_DATA_TABLE.dsv\", file_archive_name=\"data/nmdc-version2.zip\")"
   ]
  },
  {
   "cell_type": "code",
   "execution_count": 3,
   "metadata": {},
   "outputs": [],
   "source": [
    "# biosample.head() # peek at data"
   ]
  },
  {
   "cell_type": "markdown",
   "metadata": {},
   "source": [
    "## Build study json"
   ]
  },
  {
   "cell_type": "code",
   "execution_count": 6,
   "metadata": {},
   "outputs": [],
   "source": [
    "study_dictdf = study.to_dict(orient=\"records\")"
   ]
  },
  {
   "cell_type": "code",
   "execution_count": 7,
   "metadata": {},
   "outputs": [],
   "source": [
    "## print out a single record for viewing\n",
    "# for record in study_dictdf:\n",
    "#     print(json.dumps(record, indent=4)); break"
   ]
  },
  {
   "cell_type": "code",
   "execution_count": 8,
   "metadata": {},
   "outputs": [],
   "source": [
    "characteristics = \\\n",
    "    ['gold_study_name', 'ecosystem', 'ecosystem_category', 'ecosystem_type', \n",
    "     'ecosystem_subtype', 'specific_ecosystem', 'ecosystem_path_id', 'add_date', 'mod_date']\n",
    "study_json_list = dop.make_json_string_list\\\n",
    "    (study_dictdf, nmdc.Study, id_key='gold_id', name_key='study_name', description_key=\"description\", characteristic_fields=characteristics)"
   ]
  },
  {
   "cell_type": "code",
   "execution_count": 19,
   "metadata": {},
   "outputs": [],
   "source": [
    "# print(study_json_list[0]) ## peek at data"
   ]
  },
  {
   "cell_type": "markdown",
   "metadata": {},
   "source": [
    "## Buid project json"
   ]
  },
  {
   "cell_type": "code",
   "execution_count": 10,
   "metadata": {},
   "outputs": [],
   "source": [
    "q = \"\"\"\n",
    "select\n",
    "    project.gold_id, project.project_name, project.description, project.add_date, \n",
    "    project.mod_date, project.completion_date, project.ncbi_project_name, group_concat(study.gold_id) as study_gold_ids\n",
    "from \n",
    "    project\n",
    "inner join study\n",
    "    on study.study_id = project.master_study_id\n",
    "group by\n",
    "    project.add_date, project.mod_date, project.completion_date, project.ncbi_project_name\n",
    "\"\"\"\n",
    "projectdf = sqldf(q)"
   ]
  },
  {
   "cell_type": "code",
   "execution_count": 11,
   "metadata": {},
   "outputs": [],
   "source": [
    "project_dictdf = projectdf.to_dict(orient=\"records\")"
   ]
  },
  {
   "cell_type": "code",
   "execution_count": 12,
   "metadata": {},
   "outputs": [],
   "source": [
    "characteristics = \\\n",
    "    ['add_date', 'mod_date', 'completion_date', 'ncbi_project_name']\n",
    "project_json_list = dop.make_json_string_list\\\n",
    "    (project_dictdf, nmdc.SequencingProject, id_key='gold_id', name_key='project_name', \n",
    "     part_of_key=\"study_gold_ids\", description_key=\"description\", characteristic_fields=characteristics)"
   ]
  },
  {
   "cell_type": "code",
   "execution_count": 20,
   "metadata": {},
   "outputs": [],
   "source": [
    "# print(project_json_list[0]) ## peek at data"
   ]
  },
  {
   "cell_type": "markdown",
   "metadata": {},
   "source": [
    "## Build biosample json"
   ]
  },
  {
   "cell_type": "code",
   "execution_count": 14,
   "metadata": {},
   "outputs": [],
   "source": [
    "q = \"\"\"\n",
    "select\n",
    "    biosample.gold_id,\n",
    "    biosample.biosample_name,\n",
    "    biosample.description,\n",
    "    biosample.add_date,\n",
    "    biosample.mod_date,\n",
    "    biosample.ecosystem_path_id,\n",
    "    biosample.ecosystem,\n",
    "    biosample.ecosystem_category,\n",
    "    biosample.ecosystem_type,\n",
    "    biosample.ecosystem_subtype,\n",
    "    biosample.specific_ecosystem,\n",
    "    biosample.habitat,\n",
    "    biosample.location,\n",
    "    biosample.community,\n",
    "    biosample.ncbi_taxonomy_name,\n",
    "    biosample.geographic_location,\n",
    "    biosample.latitude,\n",
    "    biosample.longitude,\n",
    "    biosample.sample_collection_site,\n",
    "    biosample.identifier,\n",
    "    biosample.sample_collection_year,\n",
    "    biosample.sample_collection_month,\n",
    "    biosample.sample_collection_day,\n",
    "    biosample.sample_collection_hour,\n",
    "    biosample.sample_collection_minute,\n",
    "    biosample.host_name,\n",
    "    biosample.depth,\n",
    "    biosample.subsurface_depth,\n",
    "    biosample.altitude,\n",
    "    biosample.temperature_range,\n",
    "    biosample.proport_woa_temperature,\n",
    "    biosample.biogas_temperature,\n",
    "    biosample.growth_temperature,\n",
    "    biosample.soil_annual_season_temp,\n",
    "    biosample.water_samp_store_temp,\n",
    "    biosample.biogas_retention_time,\n",
    "    biosample.salinity,\n",
    "    biosample.pressure,\n",
    "    biosample.ph,\n",
    "    biosample.chlorophyll_concentration,\n",
    "    biosample.nitrate_concentration,\n",
    "    biosample.oxygen_concentration,\n",
    "    biosample.salinity_concentration,\n",
    "    group_concat(project.gold_id) as project_gold_ids\n",
    "from\n",
    "    biosample\n",
    "inner join project_biosample\n",
    "    on biosample.biosample_id = project_biosample.biosample_id\n",
    "inner join project\n",
    "    on project.project_id = project_biosample.project_id\n",
    "group by\n",
    "    biosample.biosample_id,\n",
    "    biosample.biosample_name,\n",
    "    biosample.description,\n",
    "    biosample.add_date,\n",
    "    biosample.mod_date,\n",
    "    biosample.ecosystem_path_id,\n",
    "    biosample.ecosystem,\n",
    "    biosample.ecosystem_category,\n",
    "    biosample.ecosystem_type,\n",
    "    biosample.ecosystem_subtype,\n",
    "    biosample.specific_ecosystem,\n",
    "    biosample.habitat,\n",
    "    biosample.location,\n",
    "    biosample.community,\n",
    "    biosample.ncbi_taxonomy_name,\n",
    "    biosample.geographic_location,\n",
    "    biosample.latitude,\n",
    "    biosample.longitude,\n",
    "    biosample.sample_collection_site,\n",
    "    biosample.identifier,\n",
    "    biosample.sample_collection_year,\n",
    "    biosample.sample_collection_month,\n",
    "    biosample.sample_collection_day,\n",
    "    biosample.sample_collection_hour,\n",
    "    biosample.sample_collection_minute,\n",
    "    biosample.host_name,\n",
    "    biosample.depth,\n",
    "    biosample.subsurface_depth,\n",
    "    biosample.altitude,\n",
    "    biosample.temperature_range,\n",
    "    biosample.proport_woa_temperature,\n",
    "    biosample.biogas_temperature,\n",
    "    biosample.growth_temperature,\n",
    "    biosample.soil_annual_season_temp,\n",
    "    biosample.water_samp_store_temp,\n",
    "    biosample.biogas_retention_time,\n",
    "    biosample.salinity,\n",
    "    biosample.pressure,\n",
    "    biosample.ph,\n",
    "    biosample.chlorophyll_concentration,\n",
    "    biosample.nitrate_concentration,\n",
    "    biosample.oxygen_concentration,\n",
    "    biosample.salinity_concentration\n",
    "\"\"\"\n",
    "biosampledf = sqldf(q)"
   ]
  },
  {
   "cell_type": "code",
   "execution_count": 15,
   "metadata": {},
   "outputs": [],
   "source": [
    "biosample_dictdf = biosampledf.to_dict(orient=\"records\")"
   ]
  },
  {
   "cell_type": "code",
   "execution_count": 16,
   "metadata": {},
   "outputs": [],
   "source": [
    "characteristics = \\\n",
    "    ['add_date',\n",
    "     'mod_date',\n",
    "     'ecosystem_path_id',\n",
    "     'ecosystem',\n",
    "     'ecosystem_category',\n",
    "     'ecosystem_type',\n",
    "     'ecosystem_subtype',\n",
    "     'specific_ecosystem',\n",
    "     'habitat',\n",
    "     'location',\n",
    "     'community',\n",
    "     'ncbi_taxonomy_name',\n",
    "     'geographic_location',\n",
    "     'latitude',\n",
    "     'longitude',\n",
    "     'sample_collection_site',\n",
    "     'identifier',\n",
    "     'sample_collection_year',\n",
    "     'sample_collection_month',\n",
    "     'sample_collection_day',\n",
    "     'sample_collection_hour',\n",
    "     'sample_collection_minute',\n",
    "     'host_name',\n",
    "     'depth',\n",
    "     'subsurface_depth',\n",
    "     'altitude',\n",
    "     'temperature_range',\n",
    "     'proport_woa_temperature',\n",
    "     'biogas_temperature',\n",
    "     'growth_temperature',\n",
    "     'soil_annual_season_temp',\n",
    "     'water_samp_store_temp',\n",
    "     'biogas_retention_time',\n",
    "     'salinity',\n",
    "     'pressure',\n",
    "     'ph',\n",
    "     'chlorophyll_concentration',\n",
    "     'nitrate_concentration',\n",
    "     'oxygen_concentration',\n",
    "     'salinity_concentration'\n",
    "    ]"
   ]
  },
  {
   "cell_type": "code",
   "execution_count": 17,
   "metadata": {},
   "outputs": [],
   "source": [
    "biosample_json_list = dop.make_json_string_list\\\n",
    "    (biosample_dictdf, nmdc.Biosample, id_key='gold_id', name_key='biosample_name', \n",
    "     part_of_key=\"project_gold_ids\", description_key=\"description\", characteristic_fields=characteristics)"
   ]
  },
  {
   "cell_type": "code",
   "execution_count": 21,
   "metadata": {},
   "outputs": [],
   "source": [
    "# print(biosample_json_list[0]) # peek at data"
   ]
  },
  {
   "cell_type": "code",
   "execution_count": null,
   "metadata": {},
   "outputs": [],
   "source": []
  }
 ],
 "metadata": {
  "kernelspec": {
   "display_name": "Python 3",
   "language": "python",
   "name": "python3"
  },
  "language_info": {
   "codemirror_mode": {
    "name": "ipython",
    "version": 3
   },
   "file_extension": ".py",
   "mimetype": "text/x-python",
   "name": "python",
   "nbconvert_exporter": "python",
   "pygments_lexer": "ipython3",
   "version": "3.7.4"
  }
 },
 "nbformat": 4,
 "nbformat_minor": 4
}
