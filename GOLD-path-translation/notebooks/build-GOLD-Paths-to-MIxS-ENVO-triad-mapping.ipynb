{
 "cells": [
  {
   "cell_type": "code",
   "execution_count": 1,
   "metadata": {},
   "outputs": [],
   "source": [
    "import pandas as pds\n",
    "from lib import data_operations as dop\n",
    "from rdflib import Graph, ConjunctiveGraph, RDFS, RDF, OWL, URIRef, Literal\n",
    "from pandasql import sqldf\n",
    "\n",
    "def pysqldf(q):\n",
    "    return sqldf(q, globals())"
   ]
  },
  {
   "cell_type": "markdown",
   "metadata": {},
   "source": [
    "# Read ENVO into graph\n",
    "#### The ENVO graph will be used to find labels associated with ENVO IRIs.\n",
    "Note: up to date envo.owl file needs to be in the data directory"
   ]
  },
  {
   "cell_type": "code",
   "execution_count": 2,
   "metadata": {},
   "outputs": [
    {
     "data": {
      "text/plain": [
       "<Graph identifier=N1a7962f6427e48fa8865f59b445b8665 (<class 'rdflib.graph.Graph'>)>"
      ]
     },
     "execution_count": 2,
     "metadata": {},
     "output_type": "execute_result"
    }
   ],
   "source": [
    "envo = Graph()\n",
    "envo.parse(\"data/envo.owl\")"
   ]
  },
  {
   "cell_type": "code",
   "execution_count": 3,
   "metadata": {},
   "outputs": [],
   "source": [
    "mapping_df = dop.make_dataframe(\"data/GOLD-Paths-to-MIxS-ENVO-triad-mapping.tsv\")\n",
    "mapping_df = mapping_df.fillna(\"\")"
   ]
  },
  {
   "cell_type": "code",
   "execution_count": 4,
   "metadata": {},
   "outputs": [
    {
     "data": {
      "text/html": [
       "<div>\n",
       "<style scoped>\n",
       "    .dataframe tbody tr th:only-of-type {\n",
       "        vertical-align: middle;\n",
       "    }\n",
       "\n",
       "    .dataframe tbody tr th {\n",
       "        vertical-align: top;\n",
       "    }\n",
       "\n",
       "    .dataframe thead th {\n",
       "        text-align: right;\n",
       "    }\n",
       "</style>\n",
       "<table border=\"1\" class=\"dataframe\">\n",
       "  <thead>\n",
       "    <tr style=\"text-align: right;\">\n",
       "      <th></th>\n",
       "      <th>ebi_biomes</th>\n",
       "      <th>environmental_feature</th>\n",
       "      <th>environmental_material</th>\n",
       "      <th>biome</th>\n",
       "      <th>quality</th>\n",
       "      <th>gold_path_&gt;_delim</th>\n",
       "    </tr>\n",
       "  </thead>\n",
       "  <tbody>\n",
       "    <tr>\n",
       "      <th>0</th>\n",
       "      <td>Environmental</td>\n",
       "      <td></td>\n",
       "      <td></td>\n",
       "      <td>http://purl.obolibrary.org/obo/ENVO_01000254</td>\n",
       "      <td></td>\n",
       "      <td>root &gt; Environmental</td>\n",
       "    </tr>\n",
       "    <tr>\n",
       "      <th>1</th>\n",
       "      <td>Air</td>\n",
       "      <td></td>\n",
       "      <td>http://purl.obolibrary.org/obo/ENVO_00002005</td>\n",
       "      <td></td>\n",
       "      <td></td>\n",
       "      <td>root &gt; Environmental &gt; Air</td>\n",
       "    </tr>\n",
       "    <tr>\n",
       "      <th>2</th>\n",
       "      <td>Indoor Air</td>\n",
       "      <td>http://purl.obolibrary.org/obo/ENVO_00000073</td>\n",
       "      <td></td>\n",
       "      <td></td>\n",
       "      <td></td>\n",
       "      <td>root &gt; Environmental &gt; Air &gt; Indoor Air</td>\n",
       "    </tr>\n",
       "    <tr>\n",
       "      <th>3</th>\n",
       "      <td>Outdoor Air</td>\n",
       "      <td>http://purl.obolibrary.org/obo/ENVO_01000811</td>\n",
       "      <td></td>\n",
       "      <td></td>\n",
       "      <td></td>\n",
       "      <td>root &gt; Environmental &gt; Air &gt; Outdoor Air</td>\n",
       "    </tr>\n",
       "    <tr>\n",
       "      <th>4</th>\n",
       "      <td>Aquatic</td>\n",
       "      <td></td>\n",
       "      <td></td>\n",
       "      <td>http://purl.obolibrary.org/obo/ENVO_00002030</td>\n",
       "      <td></td>\n",
       "      <td>root &gt; Environmental &gt; Aquatic</td>\n",
       "    </tr>\n",
       "  </tbody>\n",
       "</table>\n",
       "</div>"
      ],
      "text/plain": [
       "      ebi_biomes                         environmental_feature  \\\n",
       "0  Environmental                                                 \n",
       "1            Air                                                 \n",
       "2     Indoor Air  http://purl.obolibrary.org/obo/ENVO_00000073   \n",
       "3    Outdoor Air  http://purl.obolibrary.org/obo/ENVO_01000811   \n",
       "4        Aquatic                                                 \n",
       "\n",
       "                         environmental_material  \\\n",
       "0                                                 \n",
       "1  http://purl.obolibrary.org/obo/ENVO_00002005   \n",
       "2                                                 \n",
       "3                                                 \n",
       "4                                                 \n",
       "\n",
       "                                          biome quality  \\\n",
       "0  http://purl.obolibrary.org/obo/ENVO_01000254           \n",
       "1                                                         \n",
       "2                                                         \n",
       "3                                                         \n",
       "4  http://purl.obolibrary.org/obo/ENVO_00002030           \n",
       "\n",
       "                          gold_path_>_delim  \n",
       "0                      root > Environmental  \n",
       "1                root > Environmental > Air  \n",
       "2   root > Environmental > Air > Indoor Air  \n",
       "3  root > Environmental > Air > Outdoor Air  \n",
       "4            root > Environmental > Aquatic  "
      ]
     },
     "execution_count": 4,
     "metadata": {},
     "output_type": "execute_result"
    }
   ],
   "source": [
    "mapping_df.head() # peek at data"
   ]
  },
  {
   "cell_type": "markdown",
   "metadata": {},
   "source": [
    "## Create lables associated with ENVO enviromental feature, material, biome"
   ]
  },
  {
   "cell_type": "code",
   "execution_count": 5,
   "metadata": {},
   "outputs": [],
   "source": [
    "## for each iri get the envo rdfs:label associated with it\n",
    "mapping_df[\"feature_label\"] = \\\n",
    "    mapping_df.environmental_feature.map(lambda x: \"\" if \"\" == x else str(envo.label(URIRef(x))))\n",
    "\n",
    "mapping_df[\"material_label\"] = \\\n",
    "    mapping_df.environmental_material.map(lambda x: \"\" if \"\" == x else str(envo.label(URIRef(x))))\n",
    "\n",
    "mapping_df[\"biome_label\"] = \\\n",
    "    mapping_df.biome.map(lambda x: \"\" if \"\" == x else str(envo.label(URIRef(x))))"
   ]
  },
  {
   "cell_type": "code",
   "execution_count": 6,
   "metadata": {},
   "outputs": [
    {
     "data": {
      "text/html": [
       "<div>\n",
       "<style scoped>\n",
       "    .dataframe tbody tr th:only-of-type {\n",
       "        vertical-align: middle;\n",
       "    }\n",
       "\n",
       "    .dataframe tbody tr th {\n",
       "        vertical-align: top;\n",
       "    }\n",
       "\n",
       "    .dataframe thead th {\n",
       "        text-align: right;\n",
       "    }\n",
       "</style>\n",
       "<table border=\"1\" class=\"dataframe\">\n",
       "  <thead>\n",
       "    <tr style=\"text-align: right;\">\n",
       "      <th></th>\n",
       "      <th>ebi_biomes</th>\n",
       "      <th>environmental_feature</th>\n",
       "      <th>environmental_material</th>\n",
       "      <th>biome</th>\n",
       "      <th>quality</th>\n",
       "      <th>gold_path_&gt;_delim</th>\n",
       "      <th>feature_label</th>\n",
       "      <th>material_label</th>\n",
       "      <th>biome_label</th>\n",
       "    </tr>\n",
       "  </thead>\n",
       "  <tbody>\n",
       "    <tr>\n",
       "      <th>0</th>\n",
       "      <td>Environmental</td>\n",
       "      <td></td>\n",
       "      <td></td>\n",
       "      <td>http://purl.obolibrary.org/obo/ENVO_01000254</td>\n",
       "      <td></td>\n",
       "      <td>root &gt; Environmental</td>\n",
       "      <td></td>\n",
       "      <td></td>\n",
       "      <td>environmental system</td>\n",
       "    </tr>\n",
       "    <tr>\n",
       "      <th>1</th>\n",
       "      <td>Air</td>\n",
       "      <td></td>\n",
       "      <td>http://purl.obolibrary.org/obo/ENVO_00002005</td>\n",
       "      <td></td>\n",
       "      <td></td>\n",
       "      <td>root &gt; Environmental &gt; Air</td>\n",
       "      <td></td>\n",
       "      <td>air</td>\n",
       "      <td></td>\n",
       "    </tr>\n",
       "    <tr>\n",
       "      <th>2</th>\n",
       "      <td>Indoor Air</td>\n",
       "      <td>http://purl.obolibrary.org/obo/ENVO_00000073</td>\n",
       "      <td></td>\n",
       "      <td></td>\n",
       "      <td></td>\n",
       "      <td>root &gt; Environmental &gt; Air &gt; Indoor Air</td>\n",
       "      <td>building</td>\n",
       "      <td></td>\n",
       "      <td></td>\n",
       "    </tr>\n",
       "    <tr>\n",
       "      <th>3</th>\n",
       "      <td>Outdoor Air</td>\n",
       "      <td>http://purl.obolibrary.org/obo/ENVO_01000811</td>\n",
       "      <td></td>\n",
       "      <td></td>\n",
       "      <td></td>\n",
       "      <td>root &gt; Environmental &gt; Air &gt; Outdoor Air</td>\n",
       "      <td>nitrogen-oxygen planetary atmosphere</td>\n",
       "      <td></td>\n",
       "      <td></td>\n",
       "    </tr>\n",
       "    <tr>\n",
       "      <th>4</th>\n",
       "      <td>Aquatic</td>\n",
       "      <td></td>\n",
       "      <td></td>\n",
       "      <td>http://purl.obolibrary.org/obo/ENVO_00002030</td>\n",
       "      <td></td>\n",
       "      <td>root &gt; Environmental &gt; Aquatic</td>\n",
       "      <td></td>\n",
       "      <td></td>\n",
       "      <td>aquatic biome</td>\n",
       "    </tr>\n",
       "  </tbody>\n",
       "</table>\n",
       "</div>"
      ],
      "text/plain": [
       "      ebi_biomes                         environmental_feature  \\\n",
       "0  Environmental                                                 \n",
       "1            Air                                                 \n",
       "2     Indoor Air  http://purl.obolibrary.org/obo/ENVO_00000073   \n",
       "3    Outdoor Air  http://purl.obolibrary.org/obo/ENVO_01000811   \n",
       "4        Aquatic                                                 \n",
       "\n",
       "                         environmental_material  \\\n",
       "0                                                 \n",
       "1  http://purl.obolibrary.org/obo/ENVO_00002005   \n",
       "2                                                 \n",
       "3                                                 \n",
       "4                                                 \n",
       "\n",
       "                                          biome quality  \\\n",
       "0  http://purl.obolibrary.org/obo/ENVO_01000254           \n",
       "1                                                         \n",
       "2                                                         \n",
       "3                                                         \n",
       "4  http://purl.obolibrary.org/obo/ENVO_00002030           \n",
       "\n",
       "                          gold_path_>_delim  \\\n",
       "0                      root > Environmental   \n",
       "1                root > Environmental > Air   \n",
       "2   root > Environmental > Air > Indoor Air   \n",
       "3  root > Environmental > Air > Outdoor Air   \n",
       "4            root > Environmental > Aquatic   \n",
       "\n",
       "                          feature_label material_label           biome_label  \n",
       "0                                                       environmental system  \n",
       "1                                                  air                        \n",
       "2                              building                                       \n",
       "3  nitrogen-oxygen planetary atmosphere                                       \n",
       "4                                                              aquatic biome  "
      ]
     },
     "execution_count": 6,
     "metadata": {},
     "output_type": "execute_result"
    }
   ],
   "source": [
    "mapping_df.head() # peek at data"
   ]
  },
  {
   "cell_type": "markdown",
   "metadata": {},
   "source": [
    "# Transform mapping spreadsheet into form that can be combined with GOLD path spreadsheet"
   ]
  },
  {
   "cell_type": "markdown",
   "metadata": {},
   "source": [
    "## Change ENVO and FOODON IRIs to CURIs"
   ]
  },
  {
   "cell_type": "code",
   "execution_count": 70,
   "metadata": {},
   "outputs": [
    {
     "ename": "NameError",
     "evalue": "name 'x' is not defined",
     "output_type": "error",
     "traceback": [
      "\u001b[0;31m---------------------------------------------------------------------------\u001b[0m",
      "\u001b[0;31mNameError\u001b[0m                                 Traceback (most recent call last)",
      "\u001b[0;32m<ipython-input-70-1beada932654>\u001b[0m in \u001b[0;36m<module>\u001b[0;34m\u001b[0m\n\u001b[1;32m      9\u001b[0m \u001b[0;34m\u001b[0m\u001b[0m\n\u001b[1;32m     10\u001b[0m \u001b[0mmapping_df\u001b[0m\u001b[0;34m.\u001b[0m\u001b[0menvironmental_feature\u001b[0m \u001b[0;34m=\u001b[0m\u001b[0;31m \u001b[0m\u001b[0;31m\\\u001b[0m\u001b[0;34m\u001b[0m\u001b[0;34m\u001b[0m\u001b[0m\n\u001b[0;32m---> 11\u001b[0;31m     \u001b[0mmapping_df\u001b[0m\u001b[0;34m.\u001b[0m\u001b[0menvironmental_feature\u001b[0m\u001b[0;34m.\u001b[0m\u001b[0mmap\u001b[0m\u001b[0;34m(\u001b[0m\u001b[0;32mlambda\u001b[0m \u001b[0mx\u001b[0m\u001b[0;34m:\u001b[0m \u001b[0mmake_curi\u001b[0m\u001b[0;34m(\u001b[0m\u001b[0mx\u001b[0m\u001b[0;34m)\u001b[0m\u001b[0;34m)\u001b[0m\u001b[0;34m\u001b[0m\u001b[0;34m\u001b[0m\u001b[0m\n\u001b[0m\u001b[1;32m     12\u001b[0m \u001b[0;34m\u001b[0m\u001b[0m\n\u001b[1;32m     13\u001b[0m \u001b[0mmapping_df\u001b[0m\u001b[0;34m.\u001b[0m\u001b[0menvironmental_material\u001b[0m \u001b[0;34m=\u001b[0m\u001b[0;31m \u001b[0m\u001b[0;31m\\\u001b[0m\u001b[0;34m\u001b[0m\u001b[0;34m\u001b[0m\u001b[0m\n",
      "\u001b[0;32m~/repos/NMDC/nmdc-metadata/GOLD-path-translation/notebooks/.env/lib/python3.7/site-packages/pandas/core/series.py\u001b[0m in \u001b[0;36mmap\u001b[0;34m(self, arg, na_action)\u001b[0m\n\u001b[1;32m   3826\u001b[0m         \u001b[0mdtype\u001b[0m\u001b[0;34m:\u001b[0m \u001b[0mobject\u001b[0m\u001b[0;34m\u001b[0m\u001b[0;34m\u001b[0m\u001b[0m\n\u001b[1;32m   3827\u001b[0m         \"\"\"\n\u001b[0;32m-> 3828\u001b[0;31m         \u001b[0mnew_values\u001b[0m \u001b[0;34m=\u001b[0m \u001b[0msuper\u001b[0m\u001b[0;34m(\u001b[0m\u001b[0;34m)\u001b[0m\u001b[0;34m.\u001b[0m\u001b[0m_map_values\u001b[0m\u001b[0;34m(\u001b[0m\u001b[0marg\u001b[0m\u001b[0;34m,\u001b[0m \u001b[0mna_action\u001b[0m\u001b[0;34m=\u001b[0m\u001b[0mna_action\u001b[0m\u001b[0;34m)\u001b[0m\u001b[0;34m\u001b[0m\u001b[0;34m\u001b[0m\u001b[0m\n\u001b[0m\u001b[1;32m   3829\u001b[0m         \u001b[0;32mreturn\u001b[0m \u001b[0mself\u001b[0m\u001b[0;34m.\u001b[0m\u001b[0m_constructor\u001b[0m\u001b[0;34m(\u001b[0m\u001b[0mnew_values\u001b[0m\u001b[0;34m,\u001b[0m \u001b[0mindex\u001b[0m\u001b[0;34m=\u001b[0m\u001b[0mself\u001b[0m\u001b[0;34m.\u001b[0m\u001b[0mindex\u001b[0m\u001b[0;34m)\u001b[0m\u001b[0;34m.\u001b[0m\u001b[0m__finalize__\u001b[0m\u001b[0;34m(\u001b[0m\u001b[0mself\u001b[0m\u001b[0;34m)\u001b[0m\u001b[0;34m\u001b[0m\u001b[0;34m\u001b[0m\u001b[0m\n\u001b[1;32m   3830\u001b[0m \u001b[0;34m\u001b[0m\u001b[0m\n",
      "\u001b[0;32m~/repos/NMDC/nmdc-metadata/GOLD-path-translation/notebooks/.env/lib/python3.7/site-packages/pandas/core/base.py\u001b[0m in \u001b[0;36m_map_values\u001b[0;34m(self, mapper, na_action)\u001b[0m\n\u001b[1;32m   1298\u001b[0m \u001b[0;34m\u001b[0m\u001b[0m\n\u001b[1;32m   1299\u001b[0m         \u001b[0;31m# mapper is a function\u001b[0m\u001b[0;34m\u001b[0m\u001b[0;34m\u001b[0m\u001b[0;34m\u001b[0m\u001b[0m\n\u001b[0;32m-> 1300\u001b[0;31m         \u001b[0mnew_values\u001b[0m \u001b[0;34m=\u001b[0m \u001b[0mmap_f\u001b[0m\u001b[0;34m(\u001b[0m\u001b[0mvalues\u001b[0m\u001b[0;34m,\u001b[0m \u001b[0mmapper\u001b[0m\u001b[0;34m)\u001b[0m\u001b[0;34m\u001b[0m\u001b[0;34m\u001b[0m\u001b[0m\n\u001b[0m\u001b[1;32m   1301\u001b[0m \u001b[0;34m\u001b[0m\u001b[0m\n\u001b[1;32m   1302\u001b[0m         \u001b[0;32mreturn\u001b[0m \u001b[0mnew_values\u001b[0m\u001b[0;34m\u001b[0m\u001b[0;34m\u001b[0m\u001b[0m\n",
      "\u001b[0;32mpandas/_libs/lib.pyx\u001b[0m in \u001b[0;36mpandas._libs.lib.map_infer\u001b[0;34m()\u001b[0m\n",
      "\u001b[0;32m<ipython-input-70-1beada932654>\u001b[0m in \u001b[0;36m<lambda>\u001b[0;34m(x)\u001b[0m\n\u001b[1;32m      9\u001b[0m \u001b[0;34m\u001b[0m\u001b[0m\n\u001b[1;32m     10\u001b[0m \u001b[0mmapping_df\u001b[0m\u001b[0;34m.\u001b[0m\u001b[0menvironmental_feature\u001b[0m \u001b[0;34m=\u001b[0m\u001b[0;31m \u001b[0m\u001b[0;31m\\\u001b[0m\u001b[0;34m\u001b[0m\u001b[0;34m\u001b[0m\u001b[0m\n\u001b[0;32m---> 11\u001b[0;31m     \u001b[0mmapping_df\u001b[0m\u001b[0;34m.\u001b[0m\u001b[0menvironmental_feature\u001b[0m\u001b[0;34m.\u001b[0m\u001b[0mmap\u001b[0m\u001b[0;34m(\u001b[0m\u001b[0;32mlambda\u001b[0m \u001b[0mx\u001b[0m\u001b[0;34m:\u001b[0m \u001b[0mmake_curi\u001b[0m\u001b[0;34m(\u001b[0m\u001b[0mx\u001b[0m\u001b[0;34m)\u001b[0m\u001b[0;34m)\u001b[0m\u001b[0;34m\u001b[0m\u001b[0;34m\u001b[0m\u001b[0m\n\u001b[0m\u001b[1;32m     12\u001b[0m \u001b[0;34m\u001b[0m\u001b[0m\n\u001b[1;32m     13\u001b[0m \u001b[0mmapping_df\u001b[0m\u001b[0;34m.\u001b[0m\u001b[0menvironmental_material\u001b[0m \u001b[0;34m=\u001b[0m\u001b[0;31m \u001b[0m\u001b[0;31m\\\u001b[0m\u001b[0;34m\u001b[0m\u001b[0;34m\u001b[0m\u001b[0m\n",
      "\u001b[0;32m<ipython-input-70-1beada932654>\u001b[0m in \u001b[0;36mmake_curi\u001b[0;34m(iri)\u001b[0m\n\u001b[1;32m      4\u001b[0m         \u001b[0;32mreturn\u001b[0m \u001b[0;34m\"ENVO:\"\u001b[0m \u001b[0;34m+\u001b[0m \u001b[0mx\u001b[0m\u001b[0;34m.\u001b[0m\u001b[0msplit\u001b[0m\u001b[0;34m(\u001b[0m\u001b[0;34m\"obo/ENVO_\"\u001b[0m\u001b[0;34m)\u001b[0m\u001b[0;34m[\u001b[0m\u001b[0;34m-\u001b[0m\u001b[0;36m1\u001b[0m\u001b[0;34m]\u001b[0m\u001b[0;34m\u001b[0m\u001b[0;34m\u001b[0m\u001b[0m\n\u001b[1;32m      5\u001b[0m     \u001b[0;32mif\u001b[0m \u001b[0;34m'obo/FOODON_'\u001b[0m \u001b[0;32min\u001b[0m \u001b[0miri\u001b[0m\u001b[0;34m:\u001b[0m\u001b[0;34m\u001b[0m\u001b[0;34m\u001b[0m\u001b[0m\n\u001b[0;32m----> 6\u001b[0;31m         \u001b[0;32mreturn\u001b[0m \u001b[0;34m\"FOODON:\"\u001b[0m \u001b[0;34m+\u001b[0m \u001b[0mx\u001b[0m\u001b[0;34m.\u001b[0m\u001b[0msplit\u001b[0m\u001b[0;34m(\u001b[0m\u001b[0;34m\"obo/FOODON_\"\u001b[0m\u001b[0;34m)\u001b[0m\u001b[0;34m[\u001b[0m\u001b[0;34m-\u001b[0m\u001b[0;36m1\u001b[0m\u001b[0;34m]\u001b[0m\u001b[0;34m\u001b[0m\u001b[0;34m\u001b[0m\u001b[0m\n\u001b[0m\u001b[1;32m      7\u001b[0m     \u001b[0;32mreturn\u001b[0m \u001b[0;34m\"\"\u001b[0m\u001b[0;34m\u001b[0m\u001b[0;34m\u001b[0m\u001b[0m\n\u001b[1;32m      8\u001b[0m \u001b[0;34m\u001b[0m\u001b[0m\n",
      "\u001b[0;31mNameError\u001b[0m: name 'x' is not defined"
     ]
    }
   ],
   "source": [
    "## collaps full iri to shortened form\n",
    "def make_curi(iri):\n",
    "    if 'obo/ENVO_' in iri:\n",
    "        return \"ENVO:\" + iri.split(\"obo/ENVO_\")[-1]\n",
    "    if 'obo/FOODON_' in iri:\n",
    "        return \"FOODON:\" + iri.split(\"obo/FOODON_\")[-1]\n",
    "    return \"\"\n",
    "\n",
    "    \n",
    "mapping_df.environmental_feature = \\\n",
    "    mapping_df.environmental_feature.map(lambda x: make_curi(x))\n",
    "\n",
    "mapping_df.environmental_material = \\\n",
    "    mapping_df.environmental_material.map(lambda x: make_curi(x))\n",
    "\n",
    "mapping_df.biome = \\\n",
    "    mapping_df.biome.map(lambda x: make_curi(x))"
   ]
  },
  {
   "cell_type": "code",
   "execution_count": null,
   "metadata": {},
   "outputs": [],
   "source": [
    "mapping_df.head() # peek at data"
   ]
  },
  {
   "cell_type": "markdown",
   "metadata": {},
   "source": [
    "## Split gold_path_>_delim column in GOLD path levels\n",
    "#### ecosystem, ecosystem_category, ecosystem_type, ecosystem_subtype, specific_ecosystem"
   ]
  },
  {
   "cell_type": "markdown",
   "metadata": {},
   "source": [
    "#### Add gold levels to dataframe; default values to empty string"
   ]
  },
  {
   "cell_type": "code",
   "execution_count": null,
   "metadata": {},
   "outputs": [],
   "source": [
    "gold_levels = [\"ecosystem\", \"ecosystem_category\", \"ecosystem_type\", \"ecosystem_subtype\", \"specific_ecosystem\"]\n",
    "for level in gold_levels:\n",
    "    mapping_df[level] = \"\""
   ]
  },
  {
   "cell_type": "code",
   "execution_count": null,
   "metadata": {},
   "outputs": [],
   "source": [
    "mapping_df.head()"
   ]
  },
  {
   "cell_type": "markdown",
   "metadata": {},
   "source": [
    "#### For each GOLD level add the corresponding values for the delimited path string"
   ]
  },
  {
   "cell_type": "code",
   "execution_count": null,
   "metadata": {},
   "outputs": [],
   "source": [
    "def parse_gold_path_value(gold_path_string, column, column_list, delimiter, start_index, end_index):\n",
    "    # elevels = [\"ecosystem\", \"ecosystem_category\", \"ecosystem_type\", \"ecosystem_subtype\", \"specific_ecosystem\"]\n",
    "    \n",
    "    buffer_list = ['' for item in column_list] # create a buffer list of empty strings\n",
    "    path_list = gold_path_string.split(delimiter) + buffer_list # split based on delim and buffer with list of empty strings\n",
    "    path_list = [item.strip() for item in path_list] # strip white space from items\n",
    "    path_list = path_list[start_index:end_index] # subset path list to parts that align with gold paths\n",
    "    \n",
    "    ## return the value parsed out of the path string whose index in the path list matches the index of the column\n",
    "    column_index = column_list.index(column)\n",
    "    path_value = path_list[column_index]\n",
    "    return path_value"
   ]
  },
  {
   "cell_type": "code",
   "execution_count": null,
   "metadata": {},
   "outputs": [],
   "source": [
    "## add values to dataframe columns; this could have done in loop, but doing each allows for easier debugging\n",
    "mapping_df.ecosystem = \\\n",
    "    mapping_df['gold_path_>_delim'].map(lambda x: parse_gold_path_value(x, 'ecosystem', gold_levels, ' > ', 1, 6))\n",
    "\n",
    "mapping_df.ecosystem_category = \\\n",
    "    mapping_df['gold_path_>_delim'].map(lambda x: parse_gold_path_value(x, 'ecosystem_category', gold_levels, ' > ', 1, 6))\n",
    "\n",
    "mapping_df.ecosystem_type = \\\n",
    "    mapping_df['gold_path_>_delim'].map(lambda x: parse_gold_path_value(x, 'ecosystem_type', gold_levels, ' > ', 1, 6))\n",
    "\n",
    "mapping_df.ecosystem_subtype = \\\n",
    "    mapping_df['gold_path_>_delim'].map(lambda x: parse_gold_path_value(x, 'ecosystem_subtype', gold_levels, ' > ', 1, 6))\n",
    "\n",
    "mapping_df.specific_ecosystem = \\\n",
    "    mapping_df['gold_path_>_delim'].map(lambda x: parse_gold_path_value(x, 'specific_ecosystem', gold_levels, ' > ', 1, 6))"
   ]
  },
  {
   "cell_type": "code",
   "execution_count": null,
   "metadata": {},
   "outputs": [],
   "source": [
    "mapping_df.head()"
   ]
  },
  {
   "cell_type": "markdown",
   "metadata": {},
   "source": [
    "## Check to see if all the ebi_biomes values are the same as the leafs of the GOLD paths\n",
    "#### Result: All ebi_biomes matched leaf values. So, we can drop the ebi_biomes column."
   ]
  },
  {
   "cell_type": "code",
   "execution_count": null,
   "metadata": {},
   "outputs": [],
   "source": [
    "check_df = mapping_df[['ebi_biomes', 'gold_path_>_delim']]"
   ]
  },
  {
   "cell_type": "code",
   "execution_count": null,
   "metadata": {},
   "outputs": [],
   "source": [
    "## helper function\n",
    "def get_gold_path_string_leaf_value(path_string):\n",
    "    path_list = path_string.split(' > ')\n",
    "    path_list = [item.strip() for item in path_list]\n",
    "    return path_list[-1]"
   ]
  },
  {
   "cell_type": "code",
   "execution_count": null,
   "metadata": {},
   "outputs": [],
   "source": [
    "# create column for leaf values\n",
    "check_df['leaf'] = \"\"\n",
    "check_df['leaf'] = check_df['gold_path_>_delim'].map(lambda x: get_gold_path_string_leaf_value(x))"
   ]
  },
  {
   "cell_type": "code",
   "execution_count": null,
   "metadata": {},
   "outputs": [],
   "source": [
    "check_df.head() # peek at data"
   ]
  },
  {
   "cell_type": "code",
   "execution_count": null,
   "metadata": {},
   "outputs": [],
   "source": [
    "## iterate checking for non-equal values\n",
    "for (idx, biome, leaf) in check_df[['ebi_biomes', 'leaf']].itertuples():\n",
    "    if biome.strip() != leaf: print(\"'\" + biome + \"'\", \"!=\", \"'\" + leaf + \"'\")\n",
    "        \n",
    "## NONE FOUND!"
   ]
  },
  {
   "cell_type": "markdown",
   "metadata": {},
   "source": [
    "## Create final dataframe for output\n",
    "* Add ecosystem_path_id colum\n",
    "* Save and reorder needed columns\n",
    "* Rename columns"
   ]
  },
  {
   "cell_type": "code",
   "execution_count": null,
   "metadata": {},
   "outputs": [],
   "source": [
    "mapping_df['ecosystem_path_id'] = ''"
   ]
  },
  {
   "cell_type": "code",
   "execution_count": null,
   "metadata": {},
   "outputs": [],
   "source": [
    "mapping_out_df = mapping_df[['ecosystem_path_id', 'ecosystem', 'ecosystem_category', 'ecosystem_type', 'ecosystem_subtype', 'specific_ecosystem',\n",
    "                     'biome_label', 'biome', 'material_label', 'environmental_material', 'feature_label', 'environmental_feature']]"
   ]
  },
  {
   "cell_type": "code",
   "execution_count": null,
   "metadata": {},
   "outputs": [],
   "source": [
    "mapping_out_df.rename(columns={'biome': 'biome_iri', 'environmental_material': 'material_iri', 'environmental_feature': 'feature_iri'}, inplace=True)"
   ]
  },
  {
   "cell_type": "code",
   "execution_count": null,
   "metadata": {},
   "outputs": [],
   "source": [
    "mapping_out_df.head()"
   ]
  },
  {
   "cell_type": "markdown",
   "metadata": {},
   "source": [
    "# Transform GOLD path spreadseet into form to combine with mapping spreadsheet"
   ]
  },
  {
   "cell_type": "code",
   "execution_count": 71,
   "metadata": {},
   "outputs": [],
   "source": [
    "paths_df = dop.make_dataframe(\"data/GOLDs5levelEcosystemClassificationPaths.xlsx\", file_type=\"excel\")\n",
    "paths_df.ecosystem_path_id = paths_df.ecosystem_path_id.astype(str) # path ids need to be strings"
   ]
  },
  {
   "cell_type": "code",
   "execution_count": 72,
   "metadata": {},
   "outputs": [
    {
     "data": {
      "text/html": [
       "<div>\n",
       "<style scoped>\n",
       "    .dataframe tbody tr th:only-of-type {\n",
       "        vertical-align: middle;\n",
       "    }\n",
       "\n",
       "    .dataframe tbody tr th {\n",
       "        vertical-align: top;\n",
       "    }\n",
       "\n",
       "    .dataframe thead th {\n",
       "        text-align: right;\n",
       "    }\n",
       "</style>\n",
       "<table border=\"1\" class=\"dataframe\">\n",
       "  <thead>\n",
       "    <tr style=\"text-align: right;\">\n",
       "      <th></th>\n",
       "      <th>ecosystem_path_id</th>\n",
       "      <th>ecosystem</th>\n",
       "      <th>ecosystem_category</th>\n",
       "      <th>ecosystem_type</th>\n",
       "      <th>ecosystem_subtype</th>\n",
       "      <th>specific_ecosystem</th>\n",
       "    </tr>\n",
       "  </thead>\n",
       "  <tbody>\n",
       "    <tr>\n",
       "      <th>0</th>\n",
       "      <td>4845</td>\n",
       "      <td>Engineered</td>\n",
       "      <td>Artificial ecosystem</td>\n",
       "      <td>Mud microcosm</td>\n",
       "      <td>Unclassified</td>\n",
       "      <td>Unclassified</td>\n",
       "    </tr>\n",
       "    <tr>\n",
       "      <th>1</th>\n",
       "      <td>4536</td>\n",
       "      <td>Engineered</td>\n",
       "      <td>Bioreactor</td>\n",
       "      <td>Aerobic</td>\n",
       "      <td>Unclassified</td>\n",
       "      <td>Unclassified</td>\n",
       "    </tr>\n",
       "    <tr>\n",
       "      <th>2</th>\n",
       "      <td>4912</td>\n",
       "      <td>Engineered</td>\n",
       "      <td>Bioreactor</td>\n",
       "      <td>Anaerobic</td>\n",
       "      <td>Food waste</td>\n",
       "      <td>Unclassified</td>\n",
       "    </tr>\n",
       "    <tr>\n",
       "      <th>3</th>\n",
       "      <td>4914</td>\n",
       "      <td>Engineered</td>\n",
       "      <td>Bioreactor</td>\n",
       "      <td>Anaerobic</td>\n",
       "      <td>Manure</td>\n",
       "      <td>Unclassified</td>\n",
       "    </tr>\n",
       "    <tr>\n",
       "      <th>4</th>\n",
       "      <td>4442</td>\n",
       "      <td>Engineered</td>\n",
       "      <td>Bioreactor</td>\n",
       "      <td>Anaerobic</td>\n",
       "      <td>Unclassified</td>\n",
       "      <td>Unclassified</td>\n",
       "    </tr>\n",
       "  </tbody>\n",
       "</table>\n",
       "</div>"
      ],
      "text/plain": [
       "  ecosystem_path_id   ecosystem    ecosystem_category ecosystem_type  \\\n",
       "0              4845  Engineered  Artificial ecosystem  Mud microcosm   \n",
       "1              4536  Engineered            Bioreactor        Aerobic   \n",
       "2              4912  Engineered            Bioreactor      Anaerobic   \n",
       "3              4914  Engineered            Bioreactor      Anaerobic   \n",
       "4              4442  Engineered            Bioreactor      Anaerobic   \n",
       "\n",
       "  ecosystem_subtype specific_ecosystem  \n",
       "0      Unclassified       Unclassified  \n",
       "1      Unclassified       Unclassified  \n",
       "2        Food waste       Unclassified  \n",
       "3            Manure       Unclassified  \n",
       "4      Unclassified       Unclassified  "
      ]
     },
     "execution_count": 72,
     "metadata": {},
     "output_type": "execute_result"
    }
   ],
   "source": [
    "paths_df.head()"
   ]
  },
  {
   "cell_type": "markdown",
   "metadata": {},
   "source": [
    "## Check for duplicate five tuples"
   ]
  },
  {
   "cell_type": "code",
   "execution_count": 73,
   "metadata": {},
   "outputs": [],
   "source": [
    "subset_df = paths_df[['ecosystem', 'ecosystem_category', 'ecosystem_type', 'ecosystem_subtype', 'specific_ecosystem']]"
   ]
  },
  {
   "cell_type": "code",
   "execution_count": 74,
   "metadata": {},
   "outputs": [
    {
     "data": {
      "text/html": [
       "<div>\n",
       "<style scoped>\n",
       "    .dataframe tbody tr th:only-of-type {\n",
       "        vertical-align: middle;\n",
       "    }\n",
       "\n",
       "    .dataframe tbody tr th {\n",
       "        vertical-align: top;\n",
       "    }\n",
       "\n",
       "    .dataframe thead th {\n",
       "        text-align: right;\n",
       "    }\n",
       "</style>\n",
       "<table border=\"1\" class=\"dataframe\">\n",
       "  <thead>\n",
       "    <tr style=\"text-align: right;\">\n",
       "      <th></th>\n",
       "      <th>ecosystem</th>\n",
       "      <th>ecosystem_category</th>\n",
       "      <th>ecosystem_type</th>\n",
       "      <th>ecosystem_subtype</th>\n",
       "      <th>specific_ecosystem</th>\n",
       "      <th>total</th>\n",
       "    </tr>\n",
       "  </thead>\n",
       "  <tbody>\n",
       "    <tr>\n",
       "      <th>0</th>\n",
       "      <td>Environmental</td>\n",
       "      <td>Aquatic</td>\n",
       "      <td>Marine</td>\n",
       "      <td>Neritic zone</td>\n",
       "      <td>Sediment</td>\n",
       "      <td>2</td>\n",
       "    </tr>\n",
       "  </tbody>\n",
       "</table>\n",
       "</div>"
      ],
      "text/plain": [
       "       ecosystem ecosystem_category ecosystem_type ecosystem_subtype  \\\n",
       "0  Environmental            Aquatic         Marine      Neritic zone   \n",
       "\n",
       "  specific_ecosystem  total  \n",
       "0           Sediment      2  "
      ]
     },
     "execution_count": 74,
     "metadata": {},
     "output_type": "execute_result"
    }
   ],
   "source": [
    "q = \"\"\"\n",
    "select\n",
    "    ecosystem, ecosystem_category, ecosystem_type, ecosystem_subtype, specific_ecosystem, count(*) as total\n",
    "from\n",
    "    subset_df\n",
    "group by\n",
    "    ecosystem, ecosystem_category, ecosystem_type, ecosystem_subtype, specific_ecosystem\n",
    "having\n",
    "    count(*) > 1\n",
    "\"\"\"\n",
    "dups_df = sqldf(q)\n",
    "dups_df"
   ]
  },
  {
   "cell_type": "code",
   "execution_count": 75,
   "metadata": {},
   "outputs": [],
   "source": [
    "#### get rows of the duplicates"
   ]
  },
  {
   "cell_type": "code",
   "execution_count": 76,
   "metadata": {},
   "outputs": [
    {
     "data": {
      "text/html": [
       "<div>\n",
       "<style scoped>\n",
       "    .dataframe tbody tr th:only-of-type {\n",
       "        vertical-align: middle;\n",
       "    }\n",
       "\n",
       "    .dataframe tbody tr th {\n",
       "        vertical-align: top;\n",
       "    }\n",
       "\n",
       "    .dataframe thead th {\n",
       "        text-align: right;\n",
       "    }\n",
       "</style>\n",
       "<table border=\"1\" class=\"dataframe\">\n",
       "  <thead>\n",
       "    <tr style=\"text-align: right;\">\n",
       "      <th></th>\n",
       "      <th>ecosystem_path_id</th>\n",
       "      <th>ecosystem</th>\n",
       "      <th>ecosystem_category</th>\n",
       "      <th>ecosystem_type</th>\n",
       "      <th>ecosystem_subtype</th>\n",
       "      <th>specific_ecosystem</th>\n",
       "    </tr>\n",
       "  </thead>\n",
       "  <tbody>\n",
       "    <tr>\n",
       "      <th>0</th>\n",
       "      <td>4035</td>\n",
       "      <td>Environmental</td>\n",
       "      <td>Aquatic</td>\n",
       "      <td>Marine</td>\n",
       "      <td>Neritic zone</td>\n",
       "      <td>Sediment</td>\n",
       "    </tr>\n",
       "    <tr>\n",
       "      <th>1</th>\n",
       "      <td>4048</td>\n",
       "      <td>Environmental</td>\n",
       "      <td>Aquatic</td>\n",
       "      <td>Marine</td>\n",
       "      <td>Neritic zone</td>\n",
       "      <td>Sediment</td>\n",
       "    </tr>\n",
       "  </tbody>\n",
       "</table>\n",
       "</div>"
      ],
      "text/plain": [
       "  ecosystem_path_id      ecosystem ecosystem_category ecosystem_type  \\\n",
       "0              4035  Environmental            Aquatic         Marine   \n",
       "1              4048  Environmental            Aquatic         Marine   \n",
       "\n",
       "  ecosystem_subtype specific_ecosystem  \n",
       "0      Neritic zone           Sediment  \n",
       "1      Neritic zone           Sediment  "
      ]
     },
     "execution_count": 76,
     "metadata": {},
     "output_type": "execute_result"
    }
   ],
   "source": [
    "q = \"\"\"\n",
    "select \n",
    "    *\n",
    "from \n",
    "    paths_df\n",
    "where\n",
    "    ecosystem = 'Environmental'\n",
    "    and ecosystem_category = 'Aquatic'\n",
    "    and ecosystem_type = 'Marine'\n",
    "    and ecosystem_subtype = 'Neritic zone'\n",
    "    and specific_ecosystem = 'Sediment'\n",
    "\"\"\"\n",
    "sqldf(q)"
   ]
  },
  {
   "cell_type": "markdown",
   "metadata": {},
   "source": [
    "#### update ecosystem_path_id to be a concat of both and remove duplicate row"
   ]
  },
  {
   "cell_type": "code",
   "execution_count": 77,
   "metadata": {},
   "outputs": [],
   "source": [
    "paths_df.loc[paths_df['ecosystem_path_id'] == '4035', 'ecosystem_path_id'] = '4035|4048'"
   ]
  },
  {
   "cell_type": "code",
   "execution_count": 78,
   "metadata": {},
   "outputs": [],
   "source": [
    "paths_df.drop(paths_df.loc[paths_df['ecosystem_path_id'] == '4048'].index, inplace=True)"
   ]
  },
  {
   "cell_type": "markdown",
   "metadata": {},
   "source": [
    "#### verify duplicate has been dropped"
   ]
  },
  {
   "cell_type": "code",
   "execution_count": 79,
   "metadata": {},
   "outputs": [
    {
     "data": {
      "text/html": [
       "<div>\n",
       "<style scoped>\n",
       "    .dataframe tbody tr th:only-of-type {\n",
       "        vertical-align: middle;\n",
       "    }\n",
       "\n",
       "    .dataframe tbody tr th {\n",
       "        vertical-align: top;\n",
       "    }\n",
       "\n",
       "    .dataframe thead th {\n",
       "        text-align: right;\n",
       "    }\n",
       "</style>\n",
       "<table border=\"1\" class=\"dataframe\">\n",
       "  <thead>\n",
       "    <tr style=\"text-align: right;\">\n",
       "      <th></th>\n",
       "      <th>ecosystem_path_id</th>\n",
       "      <th>ecosystem</th>\n",
       "      <th>ecosystem_category</th>\n",
       "      <th>ecosystem_type</th>\n",
       "      <th>ecosystem_subtype</th>\n",
       "      <th>specific_ecosystem</th>\n",
       "    </tr>\n",
       "  </thead>\n",
       "  <tbody>\n",
       "    <tr>\n",
       "      <th>0</th>\n",
       "      <td>4035|4048</td>\n",
       "      <td>Environmental</td>\n",
       "      <td>Aquatic</td>\n",
       "      <td>Marine</td>\n",
       "      <td>Neritic zone</td>\n",
       "      <td>Sediment</td>\n",
       "    </tr>\n",
       "  </tbody>\n",
       "</table>\n",
       "</div>"
      ],
      "text/plain": [
       "  ecosystem_path_id      ecosystem ecosystem_category ecosystem_type  \\\n",
       "0         4035|4048  Environmental            Aquatic         Marine   \n",
       "\n",
       "  ecosystem_subtype specific_ecosystem  \n",
       "0      Neritic zone           Sediment  "
      ]
     },
     "execution_count": 79,
     "metadata": {},
     "output_type": "execute_result"
    }
   ],
   "source": [
    "q = \"\"\"\n",
    "select \n",
    "    *\n",
    "from \n",
    "    paths_df\n",
    "where\n",
    "    ecosystem = 'Environmental'\n",
    "    and ecosystem_category = 'Aquatic'\n",
    "    and ecosystem_type = 'Marine'\n",
    "    and ecosystem_subtype = 'Neritic zone'\n",
    "    and specific_ecosystem = 'Sediment'\n",
    "\"\"\"\n",
    "sqldf(q)"
   ]
  },
  {
   "cell_type": "markdown",
   "metadata": {},
   "source": [
    "## Add biome-material-feature columns to paths dataframe"
   ]
  },
  {
   "cell_type": "code",
   "execution_count": 80,
   "metadata": {},
   "outputs": [],
   "source": [
    "paths_df['biome_label'] = ''\n",
    "paths_df['biome_iri'] = ''\n",
    "paths_df['material_label'] = ''\n",
    "paths_df['material_iri'] = ''\n",
    "paths_df['feature_label'] = ''\n",
    "paths_df['feature_iri'] = ''"
   ]
  },
  {
   "cell_type": "code",
   "execution_count": 81,
   "metadata": {},
   "outputs": [
    {
     "data": {
      "text/html": [
       "<div>\n",
       "<style scoped>\n",
       "    .dataframe tbody tr th:only-of-type {\n",
       "        vertical-align: middle;\n",
       "    }\n",
       "\n",
       "    .dataframe tbody tr th {\n",
       "        vertical-align: top;\n",
       "    }\n",
       "\n",
       "    .dataframe thead th {\n",
       "        text-align: right;\n",
       "    }\n",
       "</style>\n",
       "<table border=\"1\" class=\"dataframe\">\n",
       "  <thead>\n",
       "    <tr style=\"text-align: right;\">\n",
       "      <th></th>\n",
       "      <th>ecosystem_path_id</th>\n",
       "      <th>ecosystem</th>\n",
       "      <th>ecosystem_category</th>\n",
       "      <th>ecosystem_type</th>\n",
       "      <th>ecosystem_subtype</th>\n",
       "      <th>specific_ecosystem</th>\n",
       "      <th>biome_label</th>\n",
       "      <th>biome_iri</th>\n",
       "      <th>material_label</th>\n",
       "      <th>material_iri</th>\n",
       "      <th>feature_label</th>\n",
       "      <th>feature_iri</th>\n",
       "    </tr>\n",
       "  </thead>\n",
       "  <tbody>\n",
       "    <tr>\n",
       "      <th>0</th>\n",
       "      <td>4845</td>\n",
       "      <td>Engineered</td>\n",
       "      <td>Artificial ecosystem</td>\n",
       "      <td>Mud microcosm</td>\n",
       "      <td>Unclassified</td>\n",
       "      <td>Unclassified</td>\n",
       "      <td></td>\n",
       "      <td></td>\n",
       "      <td></td>\n",
       "      <td></td>\n",
       "      <td></td>\n",
       "      <td></td>\n",
       "    </tr>\n",
       "    <tr>\n",
       "      <th>1</th>\n",
       "      <td>4536</td>\n",
       "      <td>Engineered</td>\n",
       "      <td>Bioreactor</td>\n",
       "      <td>Aerobic</td>\n",
       "      <td>Unclassified</td>\n",
       "      <td>Unclassified</td>\n",
       "      <td></td>\n",
       "      <td></td>\n",
       "      <td></td>\n",
       "      <td></td>\n",
       "      <td></td>\n",
       "      <td></td>\n",
       "    </tr>\n",
       "    <tr>\n",
       "      <th>2</th>\n",
       "      <td>4912</td>\n",
       "      <td>Engineered</td>\n",
       "      <td>Bioreactor</td>\n",
       "      <td>Anaerobic</td>\n",
       "      <td>Food waste</td>\n",
       "      <td>Unclassified</td>\n",
       "      <td></td>\n",
       "      <td></td>\n",
       "      <td></td>\n",
       "      <td></td>\n",
       "      <td></td>\n",
       "      <td></td>\n",
       "    </tr>\n",
       "    <tr>\n",
       "      <th>3</th>\n",
       "      <td>4914</td>\n",
       "      <td>Engineered</td>\n",
       "      <td>Bioreactor</td>\n",
       "      <td>Anaerobic</td>\n",
       "      <td>Manure</td>\n",
       "      <td>Unclassified</td>\n",
       "      <td></td>\n",
       "      <td></td>\n",
       "      <td></td>\n",
       "      <td></td>\n",
       "      <td></td>\n",
       "      <td></td>\n",
       "    </tr>\n",
       "    <tr>\n",
       "      <th>4</th>\n",
       "      <td>4442</td>\n",
       "      <td>Engineered</td>\n",
       "      <td>Bioreactor</td>\n",
       "      <td>Anaerobic</td>\n",
       "      <td>Unclassified</td>\n",
       "      <td>Unclassified</td>\n",
       "      <td></td>\n",
       "      <td></td>\n",
       "      <td></td>\n",
       "      <td></td>\n",
       "      <td></td>\n",
       "      <td></td>\n",
       "    </tr>\n",
       "  </tbody>\n",
       "</table>\n",
       "</div>"
      ],
      "text/plain": [
       "  ecosystem_path_id   ecosystem    ecosystem_category ecosystem_type  \\\n",
       "0              4845  Engineered  Artificial ecosystem  Mud microcosm   \n",
       "1              4536  Engineered            Bioreactor        Aerobic   \n",
       "2              4912  Engineered            Bioreactor      Anaerobic   \n",
       "3              4914  Engineered            Bioreactor      Anaerobic   \n",
       "4              4442  Engineered            Bioreactor      Anaerobic   \n",
       "\n",
       "  ecosystem_subtype specific_ecosystem biome_label biome_iri material_label  \\\n",
       "0      Unclassified       Unclassified                                        \n",
       "1      Unclassified       Unclassified                                        \n",
       "2        Food waste       Unclassified                                        \n",
       "3            Manure       Unclassified                                        \n",
       "4      Unclassified       Unclassified                                        \n",
       "\n",
       "  material_iri feature_label feature_iri  \n",
       "0                                         \n",
       "1                                         \n",
       "2                                         \n",
       "3                                         \n",
       "4                                         "
      ]
     },
     "execution_count": 81,
     "metadata": {},
     "output_type": "execute_result"
    }
   ],
   "source": [
    "paths_df.head() # peek at data"
   ]
  },
  {
   "cell_type": "markdown",
   "metadata": {},
   "source": [
    "#### verify column header of each dataframe are the same"
   ]
  },
  {
   "cell_type": "code",
   "execution_count": 82,
   "metadata": {},
   "outputs": [
    {
     "data": {
      "text/plain": [
       "True"
      ]
     },
     "execution_count": 82,
     "metadata": {},
     "output_type": "execute_result"
    }
   ],
   "source": [
    "list(mapping_out_df.columns) == list(paths_df.columns)"
   ]
  },
  {
   "cell_type": "markdown",
   "metadata": {},
   "source": [
    "# Combine mapping and GOLD spreadsheets"
   ]
  },
  {
   "cell_type": "code",
   "execution_count": 83,
   "metadata": {},
   "outputs": [],
   "source": [
    "concat_df = pds.concat([mapping_out_df, paths_df])"
   ]
  },
  {
   "cell_type": "code",
   "execution_count": 84,
   "metadata": {},
   "outputs": [
    {
     "data": {
      "text/html": [
       "<div>\n",
       "<style scoped>\n",
       "    .dataframe tbody tr th:only-of-type {\n",
       "        vertical-align: middle;\n",
       "    }\n",
       "\n",
       "    .dataframe tbody tr th {\n",
       "        vertical-align: top;\n",
       "    }\n",
       "\n",
       "    .dataframe thead th {\n",
       "        text-align: right;\n",
       "    }\n",
       "</style>\n",
       "<table border=\"1\" class=\"dataframe\">\n",
       "  <thead>\n",
       "    <tr style=\"text-align: right;\">\n",
       "      <th></th>\n",
       "      <th>ecosystem_path_id</th>\n",
       "      <th>ecosystem</th>\n",
       "      <th>ecosystem_category</th>\n",
       "      <th>ecosystem_type</th>\n",
       "      <th>ecosystem_subtype</th>\n",
       "      <th>specific_ecosystem</th>\n",
       "      <th>biome_label</th>\n",
       "      <th>biome_iri</th>\n",
       "      <th>material_label</th>\n",
       "      <th>material_iri</th>\n",
       "      <th>feature_label</th>\n",
       "      <th>feature_iri</th>\n",
       "    </tr>\n",
       "  </thead>\n",
       "  <tbody>\n",
       "    <tr>\n",
       "      <th>0</th>\n",
       "      <td></td>\n",
       "      <td>Environmental</td>\n",
       "      <td></td>\n",
       "      <td></td>\n",
       "      <td></td>\n",
       "      <td></td>\n",
       "      <td>environmental system</td>\n",
       "      <td>ENVO:01000254</td>\n",
       "      <td></td>\n",
       "      <td></td>\n",
       "      <td></td>\n",
       "      <td></td>\n",
       "    </tr>\n",
       "    <tr>\n",
       "      <th>1</th>\n",
       "      <td></td>\n",
       "      <td>Environmental</td>\n",
       "      <td>Air</td>\n",
       "      <td></td>\n",
       "      <td></td>\n",
       "      <td></td>\n",
       "      <td></td>\n",
       "      <td></td>\n",
       "      <td>air</td>\n",
       "      <td>ENVO:00002005</td>\n",
       "      <td></td>\n",
       "      <td></td>\n",
       "    </tr>\n",
       "    <tr>\n",
       "      <th>2</th>\n",
       "      <td></td>\n",
       "      <td>Environmental</td>\n",
       "      <td>Air</td>\n",
       "      <td>Indoor Air</td>\n",
       "      <td></td>\n",
       "      <td></td>\n",
       "      <td></td>\n",
       "      <td></td>\n",
       "      <td></td>\n",
       "      <td></td>\n",
       "      <td>building</td>\n",
       "      <td>ENVO:00000073</td>\n",
       "    </tr>\n",
       "    <tr>\n",
       "      <th>3</th>\n",
       "      <td></td>\n",
       "      <td>Environmental</td>\n",
       "      <td>Air</td>\n",
       "      <td>Outdoor Air</td>\n",
       "      <td></td>\n",
       "      <td></td>\n",
       "      <td></td>\n",
       "      <td></td>\n",
       "      <td></td>\n",
       "      <td></td>\n",
       "      <td>nitrogen-oxygen planetary atmosphere</td>\n",
       "      <td>ENVO:01000811</td>\n",
       "    </tr>\n",
       "    <tr>\n",
       "      <th>4</th>\n",
       "      <td></td>\n",
       "      <td>Environmental</td>\n",
       "      <td>Aquatic</td>\n",
       "      <td></td>\n",
       "      <td></td>\n",
       "      <td></td>\n",
       "      <td>aquatic biome</td>\n",
       "      <td>ENVO:00002030</td>\n",
       "      <td></td>\n",
       "      <td></td>\n",
       "      <td></td>\n",
       "      <td></td>\n",
       "    </tr>\n",
       "  </tbody>\n",
       "</table>\n",
       "</div>"
      ],
      "text/plain": [
       "  ecosystem_path_id      ecosystem ecosystem_category ecosystem_type  \\\n",
       "0                    Environmental                                     \n",
       "1                    Environmental                Air                  \n",
       "2                    Environmental                Air     Indoor Air   \n",
       "3                    Environmental                Air    Outdoor Air   \n",
       "4                    Environmental            Aquatic                  \n",
       "\n",
       "  ecosystem_subtype specific_ecosystem           biome_label      biome_iri  \\\n",
       "0                                       environmental system  ENVO:01000254   \n",
       "1                                                                             \n",
       "2                                                                             \n",
       "3                                                                             \n",
       "4                                              aquatic biome  ENVO:00002030   \n",
       "\n",
       "  material_label   material_iri                         feature_label  \\\n",
       "0                                                                       \n",
       "1            air  ENVO:00002005                                         \n",
       "2                                                            building   \n",
       "3                                nitrogen-oxygen planetary atmosphere   \n",
       "4                                                                       \n",
       "\n",
       "     feature_iri  \n",
       "0                 \n",
       "1                 \n",
       "2  ENVO:00000073  \n",
       "3  ENVO:01000811  \n",
       "4                 "
      ]
     },
     "execution_count": 84,
     "metadata": {},
     "output_type": "execute_result"
    }
   ],
   "source": [
    "concat_df.head() # peek at data"
   ]
  },
  {
   "cell_type": "markdown",
   "metadata": {},
   "source": [
    "#### verify concatenated dataframe as some length as other two combined"
   ]
  },
  {
   "cell_type": "code",
   "execution_count": 85,
   "metadata": {},
   "outputs": [
    {
     "data": {
      "text/plain": [
       "True"
      ]
     },
     "execution_count": 85,
     "metadata": {},
     "output_type": "execute_result"
    }
   ],
   "source": [
    "len(concat_df) == len(mapping_out_df) + len(paths_df)"
   ]
  },
  {
   "cell_type": "code",
   "execution_count": 86,
   "metadata": {},
   "outputs": [],
   "source": [
    "concat_df.to_csv(\"output/GOLD-Paths-to-MIxS-ENVO-triad-mapping.tsv\", sep=\"\\t\", index=False)"
   ]
  },
  {
   "cell_type": "code",
   "execution_count": null,
   "metadata": {},
   "outputs": [],
   "source": []
  }
 ],
 "metadata": {
  "kernelspec": {
   "display_name": "Python 3",
   "language": "python",
   "name": "python3"
  },
  "language_info": {
   "codemirror_mode": {
    "name": "ipython",
    "version": 3
   },
   "file_extension": ".py",
   "mimetype": "text/x-python",
   "name": "python",
   "nbconvert_exporter": "python",
   "pygments_lexer": "ipython3",
   "version": "3.7.4"
  }
 },
 "nbformat": 4,
 "nbformat_minor": 4
}
