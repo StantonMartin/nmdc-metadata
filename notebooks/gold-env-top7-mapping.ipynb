{
 "cells": [
  {
   "cell_type": "code",
   "execution_count": 1,
   "metadata": {},
   "outputs": [],
   "source": [
    "import pandas as pds\n",
    "import networkx as nx\n",
    "import seaborn as sns\n",
    "import matplotlib.pyplot as plt\n",
    "from pandasql import sqldf\n",
    "pysqldf = lambda q: sqldf(q, globals())"
   ]
  },
  {
   "cell_type": "markdown",
   "metadata": {},
   "source": [
    "# Build data frame to explore values that map to EVNO classes"
   ]
  },
  {
   "cell_type": "code",
   "execution_count": 2,
   "metadata": {},
   "outputs": [
    {
     "name": "stderr",
     "output_type": "stream",
     "text": [
      "/usr/local/anaconda3/lib/python3.7/site-packages/IPython/core/interactiveshell.py:3049: DtypeWarning: Columns (13,14,16,18,19,23,26,27,28,29,30,34,35,36,37,39,41,42,43,44,45,52,57,62,70,72,73,76,77,78,79,86,98,99,100,103,104,105,106,111,119,124,133,134,135,142,144,146,149,165,191,208,229,233,252,253,254) have mixed types. Specify dtype option on import or set low_memory=False.\n",
      "  interactivity=interactivity, compiler=compiler, result=result)\n"
     ]
    }
   ],
   "source": [
    "all_data_df = pds.read_csv(\"Biosample_all.tsv.gz\", sep=\"\\t\")"
   ]
  },
  {
   "cell_type": "code",
   "execution_count": 10,
   "metadata": {},
   "outputs": [],
   "source": [
    "elevels = ['ECOSYSTEM', 'ECOSYSTEM_CATEGORY', 'ECOSYSTEM_TYPE', 'ECOSYSTEM_SUBTYPE', 'SPECIFIC_ECOSYSTEM']\n",
    "elevelsdf = all_data_df[elevels]"
   ]
  },
  {
   "cell_type": "markdown",
   "metadata": {},
   "source": [
    "### Build top 7 dataset (cf. previous analyis in gold-env-elevels-analysis.ipynb)"
   ]
  },
  {
   "cell_type": "code",
   "execution_count": 27,
   "metadata": {},
   "outputs": [
    {
     "data": {
      "text/html": [
       "<div>\n",
       "<style scoped>\n",
       "    .dataframe tbody tr th:only-of-type {\n",
       "        vertical-align: middle;\n",
       "    }\n",
       "\n",
       "    .dataframe tbody tr th {\n",
       "        vertical-align: top;\n",
       "    }\n",
       "\n",
       "    .dataframe thead th {\n",
       "        text-align: right;\n",
       "    }\n",
       "</style>\n",
       "<table border=\"1\" class=\"dataframe\">\n",
       "  <thead>\n",
       "    <tr style=\"text-align: right;\">\n",
       "      <th></th>\n",
       "      <th>id</th>\n",
       "      <th>ECOSYSTEM</th>\n",
       "      <th>ECOSYSTEM_CATEGORY</th>\n",
       "      <th>ECOSYSTEM_TYPE</th>\n",
       "      <th>ECOSYSTEM_SUBTYPE</th>\n",
       "      <th>SPECIFIC_ECOSYSTEM</th>\n",
       "    </tr>\n",
       "  </thead>\n",
       "  <tbody>\n",
       "    <tr>\n",
       "      <th>0</th>\n",
       "      <td>0</td>\n",
       "      <td>Host-associated</td>\n",
       "      <td>Plants</td>\n",
       "      <td>Phyllosphere</td>\n",
       "      <td>Caulosphere</td>\n",
       "      <td>NaN</td>\n",
       "    </tr>\n",
       "    <tr>\n",
       "      <th>1</th>\n",
       "      <td>1</td>\n",
       "      <td>Engineered</td>\n",
       "      <td>Food production</td>\n",
       "      <td>Dairy products</td>\n",
       "      <td>NaN</td>\n",
       "      <td>NaN</td>\n",
       "    </tr>\n",
       "    <tr>\n",
       "      <th>2</th>\n",
       "      <td>2</td>\n",
       "      <td>Engineered</td>\n",
       "      <td>Food production</td>\n",
       "      <td>Dairy products</td>\n",
       "      <td>NaN</td>\n",
       "      <td>NaN</td>\n",
       "    </tr>\n",
       "    <tr>\n",
       "      <th>3</th>\n",
       "      <td>3</td>\n",
       "      <td>Engineered</td>\n",
       "      <td>Food production</td>\n",
       "      <td>Dairy products</td>\n",
       "      <td>NaN</td>\n",
       "      <td>NaN</td>\n",
       "    </tr>\n",
       "    <tr>\n",
       "      <th>4</th>\n",
       "      <td>4</td>\n",
       "      <td>Engineered</td>\n",
       "      <td>Food production</td>\n",
       "      <td>Dairy products</td>\n",
       "      <td>NaN</td>\n",
       "      <td>NaN</td>\n",
       "    </tr>\n",
       "  </tbody>\n",
       "</table>\n",
       "</div>"
      ],
      "text/plain": [
       "   id        ECOSYSTEM ECOSYSTEM_CATEGORY  ECOSYSTEM_TYPE ECOSYSTEM_SUBTYPE  \\\n",
       "0   0  Host-associated             Plants    Phyllosphere       Caulosphere   \n",
       "1   1       Engineered    Food production  Dairy products               NaN   \n",
       "2   2       Engineered    Food production  Dairy products               NaN   \n",
       "3   3       Engineered    Food production  Dairy products               NaN   \n",
       "4   4       Engineered    Food production  Dairy products               NaN   \n",
       "\n",
       "  SPECIFIC_ECOSYSTEM  \n",
       "0                NaN  \n",
       "1                NaN  \n",
       "2                NaN  \n",
       "3                NaN  \n",
       "4                NaN  "
      ]
     },
     "execution_count": 27,
     "metadata": {},
     "output_type": "execute_result"
    }
   ],
   "source": [
    "## create EAV dataframe\n",
    "## fist give the index column a name and reset\n",
    "elevelsdf.index.name = 'id'\n",
    "elevelsdf.reset_index(inplace=True)\n",
    "elevelsdf.head()"
   ]
  },
  {
   "cell_type": "code",
   "execution_count": 28,
   "metadata": {},
   "outputs": [
    {
     "name": "stdout",
     "output_type": "stream",
     "text": [
      "                             8024\n",
      "id                           8024\n",
      "ECOSYSTEM           Environmental\n",
      "ECOSYSTEM_CATEGORY        Aquatic\n",
      "ECOSYSTEM_TYPE         Freshwater\n",
      "ECOSYSTEM_SUBTYPE     Groundwater\n",
      "SPECIFIC_ECOSYSTEM            NaN\n",
      "          id            variable          value\n",
      "264600  8024  SPECIFIC_ECOSYSTEM            NaN\n",
      "72168   8024  ECOSYSTEM_CATEGORY        Aquatic\n",
      "200456  8024   ECOSYSTEM_SUBTYPE    Groundwater\n",
      "8024    8024           ECOSYSTEM  Environmental\n",
      "136312  8024      ECOSYSTEM_TYPE     Freshwater\n"
     ]
    }
   ],
   "source": [
    "## next use melt function to unpivot/unstack the data\n",
    "eavdf = elevelsdf.melt(id_vars='id')\n",
    "eavdf.sort_values(by=['id'], inplace=True)\n",
    "print(pds.DataFrame(elevelsdf.iloc[8024])) ## print a random record from the original df and eav to make sure they values match\n",
    "print(eavdf[eavdf.id == 8024])"
   ]
  },
  {
   "cell_type": "code",
   "execution_count": 29,
   "metadata": {},
   "outputs": [
    {
     "data": {
      "text/html": [
       "<div>\n",
       "<style scoped>\n",
       "    .dataframe tbody tr th:only-of-type {\n",
       "        vertical-align: middle;\n",
       "    }\n",
       "\n",
       "    .dataframe tbody tr th {\n",
       "        vertical-align: top;\n",
       "    }\n",
       "\n",
       "    .dataframe thead th {\n",
       "        text-align: right;\n",
       "    }\n",
       "</style>\n",
       "<table border=\"1\" class=\"dataframe\">\n",
       "  <thead>\n",
       "    <tr style=\"text-align: right;\">\n",
       "      <th></th>\n",
       "      <th>variable</th>\n",
       "      <th>value</th>\n",
       "      <th>total</th>\n",
       "    </tr>\n",
       "  </thead>\n",
       "  <tbody>\n",
       "    <tr>\n",
       "      <th>0</th>\n",
       "      <td>ECOSYSTEM</td>\n",
       "      <td>Host-associated</td>\n",
       "      <td>30868</td>\n",
       "    </tr>\n",
       "    <tr>\n",
       "      <th>1</th>\n",
       "      <td>ECOSYSTEM</td>\n",
       "      <td>Environmental</td>\n",
       "      <td>27954</td>\n",
       "    </tr>\n",
       "    <tr>\n",
       "      <th>2</th>\n",
       "      <td>ECOSYSTEM</td>\n",
       "      <td>Engineered</td>\n",
       "      <td>5211</td>\n",
       "    </tr>\n",
       "    <tr>\n",
       "      <th>3</th>\n",
       "      <td>ECOSYSTEM</td>\n",
       "      <td>None</td>\n",
       "      <td>111</td>\n",
       "    </tr>\n",
       "    <tr>\n",
       "      <th>4</th>\n",
       "      <td>ECOSYSTEM_CATEGORY</td>\n",
       "      <td>Human</td>\n",
       "      <td>19719</td>\n",
       "    </tr>\n",
       "    <tr>\n",
       "      <th>5</th>\n",
       "      <td>ECOSYSTEM_CATEGORY</td>\n",
       "      <td>Aquatic</td>\n",
       "      <td>19622</td>\n",
       "    </tr>\n",
       "    <tr>\n",
       "      <th>6</th>\n",
       "      <td>ECOSYSTEM_CATEGORY</td>\n",
       "      <td>Terrestrial</td>\n",
       "      <td>8214</td>\n",
       "    </tr>\n",
       "    <tr>\n",
       "      <th>7</th>\n",
       "      <td>ECOSYSTEM_CATEGORY</td>\n",
       "      <td>Mammals</td>\n",
       "      <td>4151</td>\n",
       "    </tr>\n",
       "    <tr>\n",
       "      <th>8</th>\n",
       "      <td>ECOSYSTEM_CATEGORY</td>\n",
       "      <td>Plants</td>\n",
       "      <td>3467</td>\n",
       "    </tr>\n",
       "    <tr>\n",
       "      <th>9</th>\n",
       "      <td>ECOSYSTEM_CATEGORY</td>\n",
       "      <td>Built environment</td>\n",
       "      <td>1890</td>\n",
       "    </tr>\n",
       "  </tbody>\n",
       "</table>\n",
       "</div>"
      ],
      "text/plain": [
       "             variable              value  total\n",
       "0           ECOSYSTEM    Host-associated  30868\n",
       "1           ECOSYSTEM      Environmental  27954\n",
       "2           ECOSYSTEM         Engineered   5211\n",
       "3           ECOSYSTEM               None    111\n",
       "4  ECOSYSTEM_CATEGORY              Human  19719\n",
       "5  ECOSYSTEM_CATEGORY            Aquatic  19622\n",
       "6  ECOSYSTEM_CATEGORY        Terrestrial   8214\n",
       "7  ECOSYSTEM_CATEGORY            Mammals   4151\n",
       "8  ECOSYSTEM_CATEGORY             Plants   3467\n",
       "9  ECOSYSTEM_CATEGORY  Built environment   1890"
      ]
     },
     "execution_count": 29,
     "metadata": {},
     "output_type": "execute_result"
    }
   ],
   "source": [
    "## get totals for each variable/value pair\n",
    "q = \"\"\"\n",
    "select \n",
    "    variable, value, count(*) as total\n",
    "from \n",
    "    eavdf\n",
    "group by \n",
    "    variable, value\n",
    "order by \n",
    "    variable, total desc\n",
    "\"\"\"\n",
    "totalsdf = pysqldf(q)\n",
    "totalsdf.head(10)"
   ]
  },
  {
   "cell_type": "code",
   "execution_count": 41,
   "metadata": {},
   "outputs": [
    {
     "data": {
      "text/plain": [
       "395"
      ]
     },
     "execution_count": 41,
     "metadata": {},
     "output_type": "execute_result"
    }
   ],
   "source": [
    "len(totalsdf)"
   ]
  },
  {
   "cell_type": "code",
   "execution_count": 43,
   "metadata": {},
   "outputs": [],
   "source": [
    "## remove NaN from totals ... we aren't interested in the number of missing values\n",
    "dropna_totalsdf = totalsdf.dropna()"
   ]
  },
  {
   "cell_type": "code",
   "execution_count": 42,
   "metadata": {},
   "outputs": [
    {
     "data": {
      "text/plain": [
       "390"
      ]
     },
     "execution_count": 42,
     "metadata": {},
     "output_type": "execute_result"
    }
   ],
   "source": [
    "len(dropna_totalsdf)"
   ]
  },
  {
   "cell_type": "code",
   "execution_count": 44,
   "metadata": {},
   "outputs": [
    {
     "data": {
      "text/html": [
       "<div>\n",
       "<style scoped>\n",
       "    .dataframe tbody tr th:only-of-type {\n",
       "        vertical-align: middle;\n",
       "    }\n",
       "\n",
       "    .dataframe tbody tr th {\n",
       "        vertical-align: top;\n",
       "    }\n",
       "\n",
       "    .dataframe thead th {\n",
       "        text-align: right;\n",
       "    }\n",
       "</style>\n",
       "<table border=\"1\" class=\"dataframe\">\n",
       "  <thead>\n",
       "    <tr style=\"text-align: right;\">\n",
       "      <th></th>\n",
       "      <th>variable</th>\n",
       "      <th>value</th>\n",
       "      <th>total</th>\n",
       "      <th>RowNo</th>\n",
       "    </tr>\n",
       "  </thead>\n",
       "  <tbody>\n",
       "    <tr>\n",
       "      <th>0</th>\n",
       "      <td>ECOSYSTEM</td>\n",
       "      <td>Host-associated</td>\n",
       "      <td>30868</td>\n",
       "      <td>1</td>\n",
       "    </tr>\n",
       "    <tr>\n",
       "      <th>1</th>\n",
       "      <td>ECOSYSTEM</td>\n",
       "      <td>Environmental</td>\n",
       "      <td>27954</td>\n",
       "      <td>2</td>\n",
       "    </tr>\n",
       "    <tr>\n",
       "      <th>2</th>\n",
       "      <td>ECOSYSTEM</td>\n",
       "      <td>Engineered</td>\n",
       "      <td>5211</td>\n",
       "      <td>3</td>\n",
       "    </tr>\n",
       "    <tr>\n",
       "      <th>3</th>\n",
       "      <td>ECOSYSTEM_CATEGORY</td>\n",
       "      <td>Human</td>\n",
       "      <td>19719</td>\n",
       "      <td>1</td>\n",
       "    </tr>\n",
       "    <tr>\n",
       "      <th>4</th>\n",
       "      <td>ECOSYSTEM_CATEGORY</td>\n",
       "      <td>Aquatic</td>\n",
       "      <td>19622</td>\n",
       "      <td>2</td>\n",
       "    </tr>\n",
       "    <tr>\n",
       "      <th>5</th>\n",
       "      <td>ECOSYSTEM_CATEGORY</td>\n",
       "      <td>Terrestrial</td>\n",
       "      <td>8214</td>\n",
       "      <td>3</td>\n",
       "    </tr>\n",
       "    <tr>\n",
       "      <th>6</th>\n",
       "      <td>ECOSYSTEM_CATEGORY</td>\n",
       "      <td>Mammals</td>\n",
       "      <td>4151</td>\n",
       "      <td>4</td>\n",
       "    </tr>\n",
       "    <tr>\n",
       "      <th>7</th>\n",
       "      <td>ECOSYSTEM_CATEGORY</td>\n",
       "      <td>Plants</td>\n",
       "      <td>3467</td>\n",
       "      <td>5</td>\n",
       "    </tr>\n",
       "    <tr>\n",
       "      <th>8</th>\n",
       "      <td>ECOSYSTEM_CATEGORY</td>\n",
       "      <td>Built environment</td>\n",
       "      <td>1890</td>\n",
       "      <td>6</td>\n",
       "    </tr>\n",
       "    <tr>\n",
       "      <th>9</th>\n",
       "      <td>ECOSYSTEM_CATEGORY</td>\n",
       "      <td>Wastewater</td>\n",
       "      <td>1478</td>\n",
       "      <td>7</td>\n",
       "    </tr>\n",
       "  </tbody>\n",
       "</table>\n",
       "</div>"
      ],
      "text/plain": [
       "             variable              value  total  RowNo\n",
       "0           ECOSYSTEM    Host-associated  30868      1\n",
       "1           ECOSYSTEM      Environmental  27954      2\n",
       "2           ECOSYSTEM         Engineered   5211      3\n",
       "3  ECOSYSTEM_CATEGORY              Human  19719      1\n",
       "4  ECOSYSTEM_CATEGORY            Aquatic  19622      2\n",
       "5  ECOSYSTEM_CATEGORY        Terrestrial   8214      3\n",
       "6  ECOSYSTEM_CATEGORY            Mammals   4151      4\n",
       "7  ECOSYSTEM_CATEGORY             Plants   3467      5\n",
       "8  ECOSYSTEM_CATEGORY  Built environment   1890      6\n",
       "9  ECOSYSTEM_CATEGORY         Wastewater   1478      7"
      ]
     },
     "execution_count": 44,
     "metadata": {},
     "output_type": "execute_result"
    }
   ],
   "source": [
    "q = \"\"\"\n",
    "WITH TOPVALS AS (\n",
    "    SELECT *, ROW_NUMBER() \n",
    "    over (\n",
    "        PARTITION BY variable\n",
    "        order by total desc\n",
    "    ) AS RowNo \n",
    "    FROM dropna_totalsdf\n",
    ")\n",
    "SELECT * FROM TOPVALS WHERE RowNo <= 7\n",
    "\"\"\"\n",
    "top7_eavdf = pysqldf(q)\n",
    "top7_eavdf.head(10)"
   ]
  },
  {
   "cell_type": "code",
   "execution_count": 45,
   "metadata": {},
   "outputs": [
    {
     "data": {
      "text/html": [
       "<div>\n",
       "<style scoped>\n",
       "    .dataframe tbody tr th:only-of-type {\n",
       "        vertical-align: middle;\n",
       "    }\n",
       "\n",
       "    .dataframe tbody tr th {\n",
       "        vertical-align: top;\n",
       "    }\n",
       "\n",
       "    .dataframe thead th {\n",
       "        text-align: right;\n",
       "    }\n",
       "</style>\n",
       "<table border=\"1\" class=\"dataframe\">\n",
       "  <thead>\n",
       "    <tr style=\"text-align: right;\">\n",
       "      <th></th>\n",
       "      <th>variable</th>\n",
       "      <th>value</th>\n",
       "      <th>total</th>\n",
       "      <th>RowNo</th>\n",
       "    </tr>\n",
       "  </thead>\n",
       "  <tbody>\n",
       "    <tr>\n",
       "      <th>7</th>\n",
       "      <td>ECOSYSTEM_CATEGORY</td>\n",
       "      <td>Plants</td>\n",
       "      <td>3467</td>\n",
       "      <td>5</td>\n",
       "    </tr>\n",
       "    <tr>\n",
       "      <th>14</th>\n",
       "      <td>ECOSYSTEM_SUBTYPE</td>\n",
       "      <td>Lake</td>\n",
       "      <td>1579</td>\n",
       "      <td>5</td>\n",
       "    </tr>\n",
       "    <tr>\n",
       "      <th>21</th>\n",
       "      <td>ECOSYSTEM_TYPE</td>\n",
       "      <td>Unclassified</td>\n",
       "      <td>1585</td>\n",
       "      <td>5</td>\n",
       "    </tr>\n",
       "    <tr>\n",
       "      <th>28</th>\n",
       "      <td>SPECIFIC_ECOSYSTEM</td>\n",
       "      <td>Agricultural land</td>\n",
       "      <td>725</td>\n",
       "      <td>5</td>\n",
       "    </tr>\n",
       "  </tbody>\n",
       "</table>\n",
       "</div>"
      ],
      "text/plain": [
       "              variable              value  total  RowNo\n",
       "7   ECOSYSTEM_CATEGORY             Plants   3467      5\n",
       "14   ECOSYSTEM_SUBTYPE               Lake   1579      5\n",
       "21      ECOSYSTEM_TYPE       Unclassified   1585      5\n",
       "28  SPECIFIC_ECOSYSTEM  Agricultural land    725      5"
      ]
     },
     "execution_count": 45,
     "metadata": {},
     "output_type": "execute_result"
    }
   ],
   "source": [
    "top7_eavdf[top7_eavdf.RowNo == 5] # test out the logic: should be able to filter on RowNo to get different counts"
   ]
  },
  {
   "cell_type": "code",
   "execution_count": 62,
   "metadata": {},
   "outputs": [
    {
     "data": {
      "text/plain": [
       "array(['ECOSYSTEM', 'ECOSYSTEM_CATEGORY', 'ECOSYSTEM_SUBTYPE',\n",
       "       'ECOSYSTEM_TYPE', 'SPECIFIC_ECOSYSTEM'], dtype=object)"
      ]
     },
     "execution_count": 62,
     "metadata": {},
     "output_type": "execute_result"
    }
   ],
   "source": [
    "len(top7_eavdf)\n",
    "top7_eavdf.variable.unique()"
   ]
  },
  {
   "cell_type": "code",
   "execution_count": 63,
   "metadata": {},
   "outputs": [
    {
     "data": {
      "text/plain": [
       "('Fecal',\n",
       " 'Unclassified',\n",
       " 'Sediment',\n",
       " 'Forest Soil',\n",
       " 'Agricultural land',\n",
       " 'Serum',\n",
       " 'Microbial mats')"
      ]
     },
     "execution_count": 63,
     "metadata": {},
     "output_type": "execute_result"
    }
   ],
   "source": [
    "## create tuples of values in top7_eav\n",
    "top7_values = tuple(top7_eavdf['value'].unique())\n",
    "ecosytem_values = tuple(top7_eavdf[top7_eavdf.variable == 'ECOSYSTEM']['value'].unique())\n",
    "ecosytem_category_values = tuple(top7_eavdf[top7_eavdf.variable == 'ECOSYSTEM_CATEGORY']['value'].unique())\n",
    "ecosytem_type_values = tuple(top7_eavdf[top7_eavdf.variable == 'ECOSYSTEM_TYPE']['value'].unique())\n",
    "ecosytem_subtype_values = tuple(top7_eavdf[top7_eavdf.variable == 'ECOSYSTEM_SUBTYPE']['value'].unique())\n",
    "specific_ecosytem_values = tuple(top7_eavdf[top7_eavdf.variable == 'SPECIFIC_ECOSYSTEM']['value'].unique())\n",
    "specific_ecosytem_values\n",
    "# top7_eavdf[['variable', 'value']].pivot(columns='variable', values='value')"
   ]
  },
  {
   "cell_type": "code",
   "execution_count": 66,
   "metadata": {},
   "outputs": [
    {
     "name": "stdout",
     "output_type": "stream",
     "text": [
      "22399\n",
      "64144\n",
      "34600\n"
     ]
    }
   ],
   "source": [
    "## build dataframe using top 7 values from each field\n",
    "\n",
    "q = f\"\"\"\n",
    "select \n",
    "    *\n",
    "from\n",
    "    elevelsdf\n",
    "where\n",
    "    ECOSYSTEM in {ecosytem_values}\n",
    "    and ECOSYSTEM_CATEGORY in {ecosytem_category_values}\n",
    "    and ECOSYSTEM_TYPE in {ecosytem_type_values}\n",
    "    and ECOSYSTEM_SUBTYPE in {ecosytem_subtype_values}\n",
    "    and SPECIFIC_ECOSYSTEM in {specific_ecosytem_values}\n",
    "\"\"\"\n",
    "top7df = pysqldf(q)\n",
    "print(len(top7df))\n",
    "print(len(elevelsdf))\n",
    "print(len(elevelsdf.dropna()))"
   ]
  },
  {
   "cell_type": "markdown",
   "metadata": {},
   "source": [
    "### ECOSYSTEM values"
   ]
  },
  {
   "cell_type": "code",
   "execution_count": 67,
   "metadata": {},
   "outputs": [
    {
     "data": {
      "text/plain": [
       "['Environmental', 'Host-associated', 'Engineered']"
      ]
     },
     "execution_count": 67,
     "metadata": {},
     "output_type": "execute_result"
    }
   ],
   "source": [
    "list(top7df.ECOSYSTEM.unique())"
   ]
  },
  {
   "cell_type": "markdown",
   "metadata": {},
   "source": [
    "## proposed mappings\n",
    "Host-associated -> **envo:ENVO_01001000**; rdfs:label \"environmental system determined by an organism\"@en  \n",
    "note: this is subclass of envo:ecosystem\n",
    "\n",
    "Engineered -> **envo:ENVO_01000313**; rdfs:label \"anthropogenic environment\"@en  \n",
    "note: this is NOT a subclass of envo:ecosystem\n",
    "\n",
    "Environmental -> **envo:ENVO_01000951**; rdfs:label \"natural environment\"@en    \n",
    "note: this is NOT a subclass of envo:ecosystem\n"
   ]
  },
  {
   "cell_type": "markdown",
   "metadata": {},
   "source": [
    "### ECOSYSTEM_CATEGORY values"
   ]
  },
  {
   "cell_type": "code",
   "execution_count": 71,
   "metadata": {},
   "outputs": [
    {
     "data": {
      "text/html": [
       "<div>\n",
       "<style scoped>\n",
       "    .dataframe tbody tr th:only-of-type {\n",
       "        vertical-align: middle;\n",
       "    }\n",
       "\n",
       "    .dataframe tbody tr th {\n",
       "        vertical-align: top;\n",
       "    }\n",
       "\n",
       "    .dataframe thead th {\n",
       "        text-align: right;\n",
       "    }\n",
       "</style>\n",
       "<table border=\"1\" class=\"dataframe\">\n",
       "  <thead>\n",
       "    <tr style=\"text-align: right;\">\n",
       "      <th></th>\n",
       "      <th>ECOSYSTEM</th>\n",
       "      <th>ECOSYSTEM_CATEGORY</th>\n",
       "    </tr>\n",
       "  </thead>\n",
       "  <tbody>\n",
       "    <tr>\n",
       "      <th>0</th>\n",
       "      <td>Engineered</td>\n",
       "      <td>Built environment</td>\n",
       "    </tr>\n",
       "    <tr>\n",
       "      <th>1</th>\n",
       "      <td>Engineered</td>\n",
       "      <td>Wastewater</td>\n",
       "    </tr>\n",
       "    <tr>\n",
       "      <th>2</th>\n",
       "      <td>Environmental</td>\n",
       "      <td>Aquatic</td>\n",
       "    </tr>\n",
       "    <tr>\n",
       "      <th>3</th>\n",
       "      <td>Environmental</td>\n",
       "      <td>Terrestrial</td>\n",
       "    </tr>\n",
       "    <tr>\n",
       "      <th>4</th>\n",
       "      <td>Host-associated</td>\n",
       "      <td>Human</td>\n",
       "    </tr>\n",
       "    <tr>\n",
       "      <th>5</th>\n",
       "      <td>Host-associated</td>\n",
       "      <td>Mammals</td>\n",
       "    </tr>\n",
       "    <tr>\n",
       "      <th>6</th>\n",
       "      <td>Host-associated</td>\n",
       "      <td>Plants</td>\n",
       "    </tr>\n",
       "  </tbody>\n",
       "</table>\n",
       "</div>"
      ],
      "text/plain": [
       "         ECOSYSTEM ECOSYSTEM_CATEGORY\n",
       "0       Engineered  Built environment\n",
       "1       Engineered         Wastewater\n",
       "2    Environmental            Aquatic\n",
       "3    Environmental        Terrestrial\n",
       "4  Host-associated              Human\n",
       "5  Host-associated            Mammals\n",
       "6  Host-associated             Plants"
      ]
     },
     "execution_count": 71,
     "metadata": {},
     "output_type": "execute_result"
    }
   ],
   "source": [
    "q = \"\"\"\n",
    "select distinct \n",
    "    ECOSYSTEM, ECOSYSTEM_CATEGORY\n",
    "from\n",
    "    top7df\n",
    "order by\n",
    "    ECOSYSTEM\n",
    "\"\"\"\n",
    "pysqldf(q)"
   ]
  },
  {
   "cell_type": "markdown",
   "metadata": {},
   "source": [
    "## proposed mappings\n",
    "Engineered / Built environment -> ???\n",
    "note: unusure of the distinction 'engineered' and 'built'; perhaps a building?  \n",
    "  \n",
    "Engineered / Wastewater -> ???  \n",
    "note: perhaps add class 'enviromental system determined by waste water' unless they mean a portion of waste water differing lables with 'enironment deterimed by' and 'enviromental system determined'; \n",
    "  \n",
    "Environmental / Aquatic -> **envo:ENVO_00002030**; rdfs:label \"aquatic biome\"^^xsd:string **OR** **envo:ENVO_01000317**; rdfs:label \"aquatic environment\"  \n",
    "note: not sure of the distinction between biome and enviroment here; evironment seem more general, so might be more appropropiate  \n",
    "  \n",
    "Environmental / Terrestrial ->  **envo:ENVO_01001226**; rdfs:label \"terrestrial natural environment\"@en  \n",
    "  \n",
    "Host-associated / Mammals -> ???  \n",
    "note: perhaps add class 'mammal-associated enviroment' as subclass of 'animal-associted enviroment'\n",
    "  \n",
    "Host-associated / Human -> ???  \n",
    "note: perhaps add class 'human-associated enviroment' as subclass of 'mammal-associted enviroment' (referrenced above)\n",
    "  \n",
    "Host-associated / Plants ->  **envo:ENVO_01001001**; rdfs:label \"plant-associated environment\"@en"
   ]
  },
  {
   "cell_type": "markdown",
   "metadata": {},
   "source": [
    "### ECOSYSTEM_TYPE values"
   ]
  },
  {
   "cell_type": "code",
   "execution_count": 72,
   "metadata": {},
   "outputs": [
    {
     "data": {
      "text/html": [
       "<div>\n",
       "<style scoped>\n",
       "    .dataframe tbody tr th:only-of-type {\n",
       "        vertical-align: middle;\n",
       "    }\n",
       "\n",
       "    .dataframe tbody tr th {\n",
       "        vertical-align: top;\n",
       "    }\n",
       "\n",
       "    .dataframe thead th {\n",
       "        text-align: right;\n",
       "    }\n",
       "</style>\n",
       "<table border=\"1\" class=\"dataframe\">\n",
       "  <thead>\n",
       "    <tr style=\"text-align: right;\">\n",
       "      <th></th>\n",
       "      <th>ECOSYSTEM</th>\n",
       "      <th>ECOSYSTEM_CATEGORY</th>\n",
       "      <th>ECOSYSTEM_TYPE</th>\n",
       "    </tr>\n",
       "  </thead>\n",
       "  <tbody>\n",
       "    <tr>\n",
       "      <th>0</th>\n",
       "      <td>Engineered</td>\n",
       "      <td>Built environment</td>\n",
       "      <td>Unclassified</td>\n",
       "    </tr>\n",
       "    <tr>\n",
       "      <th>1</th>\n",
       "      <td>Engineered</td>\n",
       "      <td>Built environment</td>\n",
       "      <td>City</td>\n",
       "    </tr>\n",
       "    <tr>\n",
       "      <th>2</th>\n",
       "      <td>Engineered</td>\n",
       "      <td>Wastewater</td>\n",
       "      <td>Unclassified</td>\n",
       "    </tr>\n",
       "    <tr>\n",
       "      <th>3</th>\n",
       "      <td>Environmental</td>\n",
       "      <td>Aquatic</td>\n",
       "      <td>Freshwater</td>\n",
       "    </tr>\n",
       "    <tr>\n",
       "      <th>4</th>\n",
       "      <td>Environmental</td>\n",
       "      <td>Terrestrial</td>\n",
       "      <td>Soil</td>\n",
       "    </tr>\n",
       "    <tr>\n",
       "      <th>5</th>\n",
       "      <td>Environmental</td>\n",
       "      <td>Aquatic</td>\n",
       "      <td>Marine</td>\n",
       "    </tr>\n",
       "    <tr>\n",
       "      <th>6</th>\n",
       "      <td>Environmental</td>\n",
       "      <td>Aquatic</td>\n",
       "      <td>Unclassified</td>\n",
       "    </tr>\n",
       "    <tr>\n",
       "      <th>7</th>\n",
       "      <td>Environmental</td>\n",
       "      <td>Terrestrial</td>\n",
       "      <td>Unclassified</td>\n",
       "    </tr>\n",
       "    <tr>\n",
       "      <th>8</th>\n",
       "      <td>Environmental</td>\n",
       "      <td>Aquatic</td>\n",
       "      <td>Thermal springs</td>\n",
       "    </tr>\n",
       "    <tr>\n",
       "      <th>9</th>\n",
       "      <td>Host-associated</td>\n",
       "      <td>Human</td>\n",
       "      <td>Digestive system</td>\n",
       "    </tr>\n",
       "    <tr>\n",
       "      <th>10</th>\n",
       "      <td>Host-associated</td>\n",
       "      <td>Mammals</td>\n",
       "      <td>Digestive system</td>\n",
       "    </tr>\n",
       "    <tr>\n",
       "      <th>11</th>\n",
       "      <td>Host-associated</td>\n",
       "      <td>Human</td>\n",
       "      <td>Unclassified</td>\n",
       "    </tr>\n",
       "    <tr>\n",
       "      <th>12</th>\n",
       "      <td>Host-associated</td>\n",
       "      <td>Mammals</td>\n",
       "      <td>Unclassified</td>\n",
       "    </tr>\n",
       "    <tr>\n",
       "      <th>13</th>\n",
       "      <td>Host-associated</td>\n",
       "      <td>Plants</td>\n",
       "      <td>Unclassified</td>\n",
       "    </tr>\n",
       "  </tbody>\n",
       "</table>\n",
       "</div>"
      ],
      "text/plain": [
       "          ECOSYSTEM ECOSYSTEM_CATEGORY    ECOSYSTEM_TYPE\n",
       "0        Engineered  Built environment      Unclassified\n",
       "1        Engineered  Built environment              City\n",
       "2        Engineered         Wastewater      Unclassified\n",
       "3     Environmental            Aquatic        Freshwater\n",
       "4     Environmental        Terrestrial              Soil\n",
       "5     Environmental            Aquatic            Marine\n",
       "6     Environmental            Aquatic      Unclassified\n",
       "7     Environmental        Terrestrial      Unclassified\n",
       "8     Environmental            Aquatic   Thermal springs\n",
       "9   Host-associated              Human  Digestive system\n",
       "10  Host-associated            Mammals  Digestive system\n",
       "11  Host-associated              Human      Unclassified\n",
       "12  Host-associated            Mammals      Unclassified\n",
       "13  Host-associated             Plants      Unclassified"
      ]
     },
     "execution_count": 72,
     "metadata": {},
     "output_type": "execute_result"
    }
   ],
   "source": [
    "q = \"\"\"\n",
    "select distinct \n",
    "    ECOSYSTEM, ECOSYSTEM_CATEGORY, ECOSYSTEM_TYPE\n",
    "from\n",
    "    top7df\n",
    "order by\n",
    "    ECOSYSTEM\n",
    "\"\"\"\n",
    "pysqldf(q)"
   ]
  },
  {
   "cell_type": "markdown",
   "metadata": {},
   "source": [
    "## proposed mappings\n",
    "Engineered / Built environment / City -> **envo:ENVO_01000248**; rdfs:label \"dense settlement biome\" **OR** **envo:ENVO_01000249**; rdfs:label \"urban biome\"\n",
    "note: 'city' might refer to a type of enviroment zone; if so, this might require adding new classes\n",
    "\n",
    "Engineered / Wastewater / Unclassified ->  ???\n",
    "note: Do we want special class to indentify unclassified data?  \n",
    "\n",
    "Environmental / Aquatic / Freshwater -> **envo:ENVO_01000306**; rdfs:label \"freshwater environment\"  \n",
    "\n",
    "Environmental / Terrestrial / Soil -> **envo:ENVO_01001044**; rdfs:label \"soil environment\"@en\n",
    "\n",
    "Environmental / Aquatic / Marine -> **ENVO_01000307**; rdfs:label \"saline water environment\"  \n",
    "\n",
    "Environmental / Aquatic / Unclassified -> ???  \n",
    "\n",
    "Environmental / Terrestrial / Unclassified -> ??? \n",
    "\n",
    "Environmental / Aquatic / Thermal springs -> ???  \n",
    "note: add as sublcass of 'aquatic enviroment'  \n",
    "\n",
    "Host-associated / Mammals / Digestive system -> ???  \n",
    "note: add as class 'mammal digestive tract enviroment' as sublcass of 'digestive tract enviroment'  \n",
    "\n",
    "Host-associated / Human / Digestive system -> ???  \n",
    "note: note: add as class 'human digestive tract enviroment' as sublcass of 'mammal tract enviroment' (referrenced above)  \n",
    "\n",
    "Host-associated / Human / Unclassified -> ???\n",
    "Host-associated / Mammals / Unclassified -> ???\n",
    "Host-associated / Plants / Unclassified -> ???"
   ]
  },
  {
   "cell_type": "code",
   "execution_count": null,
   "metadata": {},
   "outputs": [],
   "source": []
  }
 ],
 "metadata": {
  "kernelspec": {
   "display_name": "Python 3",
   "language": "python",
   "name": "python3"
  },
  "language_info": {
   "codemirror_mode": {
    "name": "ipython",
    "version": 3
   },
   "file_extension": ".py",
   "mimetype": "text/x-python",
   "name": "python",
   "nbconvert_exporter": "python",
   "pygments_lexer": "ipython3",
   "version": "3.7.3"
  }
 },
 "nbformat": 4,
 "nbformat_minor": 2
}
